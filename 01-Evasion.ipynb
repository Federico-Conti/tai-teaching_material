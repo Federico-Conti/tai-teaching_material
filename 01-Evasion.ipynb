{
 "cells": [
  {
   "cell_type": "markdown",
   "metadata": {
    "collapsed": false,
    "pycharm": {
     "name": "#%% md\n"
    }
   },
   "source": [
    "# Evasion attacks against Machine Learning models\n",
    "\n",
    "As seen in class, machine learning models can be fooled by *adversarial examples*, samples artificially crafted to redirect the output of the victim towards a desired result.\n",
    "To recap, adversarial examples are computed by solving an optimization problem:\n",
    "$$\n",
    "  \\min_\\boldsymbol{\\delta} L(\\boldsymbol{x} + \\boldsymbol{\\delta}, y; \\boldsymbol{\\theta})\n",
    "  \\\\\n",
    "  s.t.\\quad ||\\delta||_p \\le \\epsilon\n",
    "  \\\\\n",
    "  \\text{subject to} \\quad \\boldsymbol{l}_b \\preccurlyeq \\boldsymbol{x} + \\boldsymbol{\\delta} \\preccurlyeq \\boldsymbol{l}_u\n",
    "$$\n",
    "\n",
    "where $L$ is a loss function of choice, $\\boldsymbol{x}$ is the sample to misclassify with original label $y$, $\\boldsymbol{\\theta}$ are the parameters of the model, $\\epsilon$ is the maximum allowed perturbation, and $\\boldsymbol{l}_b,\\boldsymbol{l}_u$ are the input-space bounds that must be enforced on samples (for instance, images must be clipped in 0-1 or 0-255 to not produce a corruption).\n",
    "\n",
    "We use a minimization because we want to decrease the score of the classifier, hence causing a generic misclassification.\n",
    "\n",
    "Hence, to implement an attack, not only there is the need of an *optimization algorithm*, but also all these key components.\n",
    "In this exercise, we will leverage the *projected gradient descent*[1,2] optimizer, by implementing it step by step in SecML.\n",
    "First, we create a simple 2D model that we will use in this tutorial, and we fit an SVM classifier on top of it.\n",
    "\n",
    "[1] Biggio et al. \"Evasion attacks against machine learning at test time\", ECML PKDD 2013, https://arxiv.org/abs/1708.06131\n",
    "[2] Madry et al. \"Towards deep learning models resistant to adversarial attacks\", ICLR 2018, https://arxiv.org/pdf/1706.06083.pdf"
   ]
  },
  {
   "cell_type": "code",
   "execution_count": null,
   "outputs": [],
   "source": [
    "import sklearn\n",
    "import matplotlib.pyplot as plt\n",
    "\n",
    "X, y = sklearn.datasets.make_blobs(n_samples=1000, n_features=2, centers=[[-1, -1], [1, 1]], cluster_std=0.5,\n",
    "                                   random_state=0)\n",
    "X = sklearn.preprocessing.MinMaxScaler().fit_transform(X)\n",
    "plt.scatter(X[y == 0, 0], X[y == 0, 1], c='r')\n",
    "plt.scatter(X[y == 1, 0], X[y == 1, 1], c='b')"
   ],
   "metadata": {
    "collapsed": false,
    "pycharm": {
     "name": "#%%\n"
    }
   }
  },
  {
   "cell_type": "code",
   "execution_count": null,
   "outputs": [],
   "source": [
    "from secml.ml import CClassifierSVM\n",
    "from secml.array import CArray\n",
    "\n",
    "clf = CClassifierSVM()\n",
    "clf.fit(CArray(X), CArray(y))\n",
    "clf.fit(CArray(X), CArray(y))"
   ],
   "metadata": {
    "collapsed": false,
    "pycharm": {
     "name": "#%%\n"
    }
   }
  },
  {
   "cell_type": "markdown",
   "source": [
    "# Projected Gradient Descent (PGD)\n",
    "\n",
    "The attack is formulated as follows:\n",
    "\n",
    "TODO insert here algorithm for PGD\n",
    "\n",
    "First, the attack is initialized by chosing a starting point for the descent, by also specifying the maximum perturbation budget $\\epsilon$, the step-size $\\alpha$, and the number of iterations.\n",
    "At each iteration, the strategy computes the gradient of the model, and it updates the adversarial example by following the computed direction.\n",
    "Lastly, if the applied perturbation is more than the intended perturbation budget $\\epsilon$, the algorithm projects this sample back inside a valid $L_p$-ball centered on the starting point, with radius $\\epsilon$. \n",
    "\n",
    "A graphical explanation of the projected gradient descent is reported below.\n",
    "\n",
    "TODO insert here 11-step plot"
   ],
   "metadata": {
    "collapsed": false,
    "pycharm": {
     "name": "#%% md\n"
    }
   }
  },
  {
   "cell_type": "code",
   "execution_count": null,
   "outputs": [],
   "source": [
    "from secml.ml.classifiers.loss import CLossClassification\n",
    "\n",
    "\n",
    "def pgd_l2_untargeted(x: CArray, y: CArray, loss_fun: CLossClassification, model: CClassifierSVM, eps: float,\n",
    "                      alpha: float,\n",
    "                      iterations: int):\n",
    "    x_adv = x.deepcopy()\n",
    "    path = CArray.zeros((iterations, x.shape[1]))\n",
    "    for i in range(iterations):\n",
    "        logits = clf.decision_function(x_adv)\n",
    "        loss_grad = loss_fun.dloss(y, logits, pos_label=0)\n",
    "        svm_grad = model.w\n",
    "        gradient = svm_grad * loss_grad\n",
    "        gradient /= gradient.norm()\n",
    "        x_adv = x_adv - alpha * gradient\n",
    "        if (x_adv - x).norm() > eps:\n",
    "            difference = x_adv - x\n",
    "            difference = difference / difference.norm() * eps\n",
    "            x_adv = x + difference\n",
    "        x_adv = x_adv.clip(0, 1)\n",
    "        path[i,:] = x_adv\n",
    "    return x_adv, model.predict(x_adv), path"
   ],
   "metadata": {
    "collapsed": false,
    "pycharm": {
     "name": "#%%\n"
    }
   }
  },
  {
   "cell_type": "code",
   "execution_count": null,
   "outputs": [],
   "source": [
    "from secml.ml.classifiers.loss import CLossCrossEntropy\n",
    "\n",
    "x = CArray(X[0, :]).atleast_2d()\n",
    "y_true = CArray([1, 0])\n",
    "iterations = 10\n",
    "eps = 1\n",
    "alpha = 0.05\n",
    "loss_func = CLossCrossEntropy()\n",
    "\n",
    "print(f\"Starting point has label: {y[0]}\")\n",
    "x_adv, y_adv, attack_path = pgd_l2_untargeted(x, y_true, loss_func, clf, eps, alpha, iterations)\n",
    "print(f\"Adversarial point has label: {y_adv.item()}\")"
   ],
   "metadata": {
    "collapsed": false,
    "pycharm": {
     "name": "#%%\n"
    }
   }
  },
  {
   "cell_type": "code",
   "metadata": {
    "pycharm": {
     "name": "#%%\n"
    }
   },
   "source": [
    "plt.scatter(X[y == 0, 0], X[y == 0, 1], c='r')\n",
    "plt.scatter(X[y == 1, 0], X[y == 1, 1], c='b')\n",
    "plt.scatter(attack_path.tondarray()[:,0], attack_path.tondarray()[:,1], c='g')"
   ],
   "execution_count": null,
   "outputs": []
  },
  {
   "cell_type": "code",
   "execution_count": null,
   "outputs": [],
   "source": [],
   "metadata": {
    "collapsed": false,
    "pycharm": {
     "name": "#%%\n"
    }
   }
  },
  {
   "cell_type": "code",
   "execution_count": null,
   "metadata": {},
   "outputs": [],
   "source": [
    "from secml.ml import CClassifier\n",
    "from secml.ml.classifiers.loss import CLossClassification\n",
    "\n",
    "def pgd_l2_untargeted(x: CArray, y :CArray, loss_fun : CLossClassification, model : CClassifier, eps : float, alpha: float, iterations: int):\n",
    "    x_adv = x.deepcopy()\n",
    "    path = []\n",
    "    for i in range(iterations):\n",
    "        logits = clf.decision_function(x_adv)\n",
    "        gradient = loss_fun.dloss(y, logits, clf)\n",
    "        gradient /= gradient.norm()\n",
    "        x_adv = x_adv - alpha * gradient\n",
    "        if (x_adv - x).norm() > eps:\n",
    "            difference = x_adv - x\n",
    "            difference = difference / difference.norm() * eps\n",
    "            x_adv = x + difference\n",
    "        x_adv = x_adv.clip(0,1)\n",
    "        path.append(x_adv)\n",
    "    return x_adv, model.predict(x_adv), path"
   ]
  },
  {
   "cell_type": "code",
   "execution_count": 47,
   "metadata": {},
   "outputs": [
    {
     "name": "stdout",
     "output_type": "stream",
     "text": [
      "Starting point has label: CArray([1 0])\n"
     ]
    },
    {
     "ename": "IndexError",
     "evalue": "only integers, slices (`:`), ellipsis (`...`), numpy.newaxis (`None`) and integer or boolean arrays are valid indices",
     "output_type": "error",
     "traceback": [
      "\u001B[0;31m---------------------------------------------------------------------------\u001B[0m",
      "\u001B[0;31mIndexError\u001B[0m                                Traceback (most recent call last)",
      "Cell \u001B[0;32mIn [47], line 11\u001B[0m\n\u001B[1;32m      8\u001B[0m loss_func \u001B[38;5;241m=\u001B[39m CLossCrossEntropy()\n\u001B[1;32m     10\u001B[0m \u001B[38;5;28mprint\u001B[39m(\u001B[38;5;124mf\u001B[39m\u001B[38;5;124m\"\u001B[39m\u001B[38;5;124mStarting point has label: \u001B[39m\u001B[38;5;132;01m{\u001B[39;00my_true\u001B[38;5;132;01m}\u001B[39;00m\u001B[38;5;124m\"\u001B[39m)\n\u001B[0;32m---> 11\u001B[0m x_adv, y_adv \u001B[38;5;241m=\u001B[39m \u001B[43mpgd_l2_untargeted\u001B[49m\u001B[43m(\u001B[49m\u001B[43mx\u001B[49m\u001B[43m,\u001B[49m\u001B[43m \u001B[49m\u001B[43my_true\u001B[49m\u001B[43m,\u001B[49m\u001B[43m \u001B[49m\u001B[43mloss_func\u001B[49m\u001B[43m,\u001B[49m\u001B[43m \u001B[49m\u001B[43mclf\u001B[49m\u001B[43m,\u001B[49m\u001B[43m \u001B[49m\u001B[43meps\u001B[49m\u001B[43m,\u001B[49m\u001B[43m \u001B[49m\u001B[43malpha\u001B[49m\u001B[43m,\u001B[49m\u001B[43m \u001B[49m\u001B[43miterations\u001B[49m\u001B[43m)\u001B[49m\n\u001B[1;32m     12\u001B[0m \u001B[38;5;28mprint\u001B[39m(\u001B[38;5;124mf\u001B[39m\u001B[38;5;124m\"\u001B[39m\u001B[38;5;124mAdversarial point has label: \u001B[39m\u001B[38;5;132;01m{\u001B[39;00my_adv\u001B[38;5;132;01m}\u001B[39;00m\u001B[38;5;124m\"\u001B[39m)\n",
      "Cell \u001B[0;32mIn [45], line 9\u001B[0m, in \u001B[0;36mpgd_l2_untargeted\u001B[0;34m(x, y, loss_fun, model, eps, alpha, iterations)\u001B[0m\n\u001B[1;32m      7\u001B[0m \u001B[38;5;28;01mfor\u001B[39;00m i \u001B[38;5;129;01min\u001B[39;00m \u001B[38;5;28mrange\u001B[39m(iterations):\n\u001B[1;32m      8\u001B[0m     logits \u001B[38;5;241m=\u001B[39m clf\u001B[38;5;241m.\u001B[39mdecision_function(x_adv)\n\u001B[0;32m----> 9\u001B[0m     gradient \u001B[38;5;241m=\u001B[39m loss_fun\u001B[38;5;241m.\u001B[39mdloss(y, logits, clf)\n\u001B[1;32m     10\u001B[0m     gradient \u001B[38;5;241m/\u001B[39m\u001B[38;5;241m=\u001B[39m gradient\u001B[38;5;241m.\u001B[39mnorm()\n\u001B[1;32m     11\u001B[0m     x_adv \u001B[38;5;241m=\u001B[39m x_adv \u001B[38;5;241m-\u001B[39m alpha \u001B[38;5;241m*\u001B[39m gradient\n",
      "File \u001B[0;32m~/opt/miniconda3/envs/tai/lib/python3.8/site-packages/secml/ml/classifiers/loss/c_loss_cross_entropy.py:107\u001B[0m, in \u001B[0;36mCLossCrossEntropy.dloss\u001B[0;34m(self, y_true, score, pos_label)\u001B[0m\n\u001B[1;32m    104\u001B[0m a \u001B[39m=\u001B[39m y_true\u001B[39m.\u001B[39mtolist() \u001B[39mif\u001B[39;00m pos_label \u001B[39mis\u001B[39;00m \u001B[39mNone\u001B[39;00m \u001B[39melse\u001B[39;00m [pos_label]\n\u001B[1;32m    106\u001B[0m \u001B[39m# Return elements equal to y_true (if pos_label is None) or pos_label\u001B[39;00m\n\u001B[0;32m--> 107\u001B[0m \u001B[39mreturn\u001B[39;00m CArray(grad[[\u001B[39mlist\u001B[39;49m(\u001B[39mrange\u001B[39;49m(score\u001B[39m.\u001B[39;49mshape[\u001B[39m0\u001B[39;49m])), a]])\n",
      "File \u001B[0;32m~/opt/miniconda3/envs/tai/lib/python3.8/site-packages/secml/array/c_array.py:896\u001B[0m, in \u001B[0;36mCArray.__getitem__\u001B[0;34m(self, idx)\u001B[0m\n\u001B[1;32m    893\u001B[0m idx_data \u001B[39m=\u001B[39m \u001B[39mself\u001B[39m\u001B[39m.\u001B[39m_prepare_idx(idx)\n\u001B[1;32m    895\u001B[0m \u001B[39m# Calling getitem of data buffer\u001B[39;00m\n\u001B[0;32m--> 896\u001B[0m \u001B[39mreturn\u001B[39;00m \u001B[39mself\u001B[39m\u001B[39m.\u001B[39m\u001B[39m__class__\u001B[39m(\u001B[39mself\u001B[39;49m\u001B[39m.\u001B[39;49m_data\u001B[39m.\u001B[39;49m\u001B[39m__getitem__\u001B[39;49m(idx_data))\n",
      "File \u001B[0;32m~/opt/miniconda3/envs/tai/lib/python3.8/site-packages/secml/array/c_dense.py:506\u001B[0m, in \u001B[0;36mCDense.__getitem__\u001B[0;34m(self, idx)\u001B[0m\n\u001B[1;32m    501\u001B[0m \u001B[39m\"\"\"Redefinition of the get operation.\"\"\"\u001B[39;00m\n\u001B[1;32m    502\u001B[0m \u001B[39mif\u001B[39;00m is_list_of_lists(idx):\n\u001B[1;32m    503\u001B[0m     \u001B[39m# Natively supported for multi-dimensional (not flat) arrays\u001B[39;00m\n\u001B[1;32m    504\u001B[0m     \u001B[39m# The list of lists must be passed as a tuple\u001B[39;00m\n\u001B[1;32m    505\u001B[0m     \u001B[39mreturn\u001B[39;00m \u001B[39mself\u001B[39m\u001B[39m.\u001B[39m\u001B[39m__class__\u001B[39m(\n\u001B[0;32m--> 506\u001B[0m         np\u001B[39m.\u001B[39;49mndarray\u001B[39m.\u001B[39;49m\u001B[39m__getitem__\u001B[39;49m(\n\u001B[1;32m    507\u001B[0m             \u001B[39mself\u001B[39;49m\u001B[39m.\u001B[39;49matleast_2d()\u001B[39m.\u001B[39;49mtondarray(), \u001B[39mtuple\u001B[39;49m(idx)))\n\u001B[1;32m    509\u001B[0m \u001B[39m# Check index for all other cases\u001B[39;00m\n\u001B[1;32m    510\u001B[0m idx \u001B[39m=\u001B[39m \u001B[39mself\u001B[39m\u001B[39m.\u001B[39m_check_index(idx)\n",
      "\u001B[0;31mIndexError\u001B[0m: only integers, slices (`:`), ellipsis (`...`), numpy.newaxis (`None`) and integer or boolean arrays are valid indices"
     ]
    }
   ],
   "source": [
    "from secml.ml.classifiers.loss import CLossCrossEntropy\n",
    "\n",
    "x = CArray(X[0,:]).atleast_2d()\n",
    "y_true = CArray([1,0])\n",
    "iterations = 10\n",
    "eps = 0.1\n",
    "alpha = 0.05\n",
    "loss_func = CLossCrossEntropy()\n",
    "\n",
    "print(f\"Starting point has label: {y_true}\")\n",
    "x_adv, y_adv = pgd_l2_untargeted(x, y_true, loss_func, clf, eps, alpha, iterations)\n",
    "print(f\"Adversarial point has label: {y_adv}\")\n",
    "\n",
    "# TODO plot adv path on boundary"
   ]
  },
  {
   "cell_type": "code",
   "execution_count": null,
   "metadata": {},
   "outputs": [],
   "source": []
  }
 ],
 "metadata": {
  "kernelspec": {
   "display_name": "Python 3.8.13 ('tai')",
   "language": "python",
   "name": "python3"
  },
  "language_info": {
   "codemirror_mode": {
    "name": "ipython",
    "version": 3
   },
   "file_extension": ".py",
   "mimetype": "text/x-python",
   "name": "python",
   "nbconvert_exporter": "python",
   "pygments_lexer": "ipython3",
   "version": "3.8.13"
  },
  "vscode": {
   "interpreter": {
    "hash": "60077ecdbb31c0938f5ded612085840cfad105448b3d79aec3520ea54a577203"
   }
  }
 },
 "nbformat": 4,
 "nbformat_minor": 0
}