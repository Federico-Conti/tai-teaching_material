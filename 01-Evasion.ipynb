{
 "cells": [
  {
   "cell_type": "markdown",
   "metadata": {
    "collapsed": false,
    "pycharm": {
     "name": ""
    }
   },
   "source": [
    "# Evasion attacks against Machine Learning models\n",
    "\n",
    "As seen in class, machine learning models can be fooled by *adversarial examples*, samples artificially crafted to redirect the output of the victim towards a desired result.\n",
    "This attacks can be either *targeted*, as the attacker wants to produce a specific misclassification (e.g. a dog must be recognized as a cat), or *untargeted*, as the attacker is satisfied with producing a generic misclassication (e.g. a dog will be recognized as anything else but not a dog).\n",
    "\n",
    "Both targeted and untargeted attacks are computed as an optimization problem.\n",
    "Targeted attacks that can be written as:\n",
    "$$\n",
    "  \\min_\\boldsymbol{\\delta} L(\\boldsymbol{x} + \\boldsymbol{\\delta}, y_t; \\boldsymbol{\\theta})\n",
    "  \\\\\n",
    "  s.t.\\quad ||\\delta||_p \\le \\epsilon\n",
    "  \\\\\n",
    "  \\text{subject to} \\quad \\boldsymbol{l}_b \\preccurlyeq \\boldsymbol{x} + \\boldsymbol{\\delta} \\preccurlyeq \\boldsymbol{l}_u\n",
    "$$\n",
    "\n",
    "where $L$ is a loss function of choice, $\\boldsymbol{x}$ is the sample to misclassify with label $y_t$, $\\boldsymbol{\\theta}$ are the parameters of the model, $\\epsilon$ is the maximum allowed perturbation, and $\\boldsymbol{l}_b,\\boldsymbol{l}_u$ are the input-space bounds that must be enforced on samples (for instance, images must be clipped in 0-1 or 0-255 to not produce a corruption).\n",
    "\n",
    "Untargeted attacks can be written as:\n",
    "\n",
    "$$\n",
    "  \\max_\\boldsymbol{\\delta} L(\\boldsymbol{x} + \\boldsymbol{\\delta}, y; \\boldsymbol{\\theta})\n",
    "  \\\\\n",
    "  s.t.\\quad ||\\delta||_p \\le \\epsilon\n",
    "  \\\\\n",
    "  \\text{subject to} \\quad \\boldsymbol{l}_b \\preccurlyeq \\boldsymbol{x} + \\boldsymbol{\\delta} \\preccurlyeq \\boldsymbol{l}_u\n",
    "$$\n",
    "\n",
    "where we change the minimization to a *maximisation*, since we want to maximise the error of the classifier w.r.t. the real label $y$.\n",
    "\n",
    "We start implementing *untargeted* evasion attacks, and we need to define two main components: the *optimization algorithm* and the *loss function* of the attack. While the second one can be *any* distance function, we will now describe one particular optimizer.\n",
    "In this exercise, we will leverage the *projected gradient descent* [1,2] optimizer, by implementing it step by step in SecML.\n",
    "First, we create a simple 2D model that we will use in this tutorial, and we fit an SVM classifier on top of it.\n",
    "\n",
    "[1] Biggio et al. \"Evasion attacks against machine learning at test time\", ECML PKDD 2013, https://arxiv.org/abs/1708.06131\n",
    "[2] Madry et al. \"Towards deep learning models resistant to adversarial attacks\", ICLR 2018, https://arxiv.org/pdf/1706.06083.pdf"
   ]
  },
  {
   "cell_type": "code",
   "execution_count": null,
   "metadata": {
    "pycharm": {
     "name": "#%%\n"
    }
   },
   "outputs": [],
   "source": [
    "import sklearn\n",
    "from sklearn.datasets import make_blobs\n",
    "\n",
    "X, y = make_blobs(n_samples=1000, n_features=2, centers=[[-1, -1], [1, 1]], cluster_std=0.5,\n",
    "                  random_state=0)\n",
    "X = sklearn.preprocessing.MinMaxScaler().fit_transform(X)"
   ]
  },
  {
   "cell_type": "code",
   "execution_count": null,
   "metadata": {
    "pycharm": {
     "name": "#%%\n"
    }
   },
   "outputs": [],
   "source": [
    "from secml.ml import CClassifierSVM\n",
    "from secml.array import CArray\n",
    "\n",
    "clf = CClassifierSVM()\n",
    "clf.fit(CArray(X), CArray(y))\n",
    "\n",
    "from secml.figure import CFigure\n",
    "\n",
    "fig = CFigure()\n",
    "fig.sp.scatter(X[y == 0, 0], X[y == 0, 1], c='r')\n",
    "fig.sp.scatter(X[y == 1, 0], X[y == 1, 1], c='b')\n",
    "fig.sp.plot_decision_regions(clf, plot_background=False,\n",
    "                             n_grid_points=200)  # helper function for plotting the decision function"
   ]
  },
  {
   "cell_type": "markdown",
   "metadata": {
    "pycharm": {
     "name": "#%% md\n"
    }
   },
   "source": [
    "# Projected Gradient Descent (PGD)\n",
    "\n",
    "The attack is formulated as follows:\n",
    "\n",
    "TODO insert here algorithm for PGD\n",
    "\n",
    "First, the attack is initialized by chosing a starting point for the descent, by also specifying the maximum perturbation budget $\\epsilon$, the step-size $\\alpha$, and the number of iterations.\n",
    "At each iteration, the strategy computes the gradient of the model, and it updates the adversarial example by following the computed direction.\n",
    "Lastly, if the applied perturbation is more than the intended perturbation budget $\\epsilon$, the algorithm projects this sample back inside a valid $L_p$-ball centered on the starting point, with radius $\\epsilon$. \n",
    "\n",
    "A graphical explanation of the projected gradient descent is reported below.\n",
    "\n",
    "TODO insert here 11-step plot"
   ]
  },
  {
   "cell_type": "code",
   "execution_count": null,
   "metadata": {
    "pycharm": {
     "name": "#%%\n"
    }
   },
   "outputs": [],
   "source": [
    "from secml.ml.classifiers.loss import CLossCrossEntropy\n",
    "\n",
    "def pgd_l2_untargeted(x: CArray, y: CArray, model: CClassifierSVM, eps: float,\n",
    "                      alpha: float,\n",
    "                      iterations: int):\n",
    "    loss_func = CLossCrossEntropy()\n",
    "    x_adv = x.deepcopy()\n",
    "    y_true = CArray([0, 0])\n",
    "    y_true[y] = 1\n",
    "    path = CArray.zeros((iterations + 1, x.shape[1]))\n",
    "    path[0, :] = x_adv\n",
    "    k = 5\n",
    "    for i in range(iterations):\n",
    "        logits = clf.decision_function(x_adv)\n",
    "\n",
    "        loss = loss_func.dloss(y_true, logits, pos_label=y) # BEWARE of the decision function of the SVM!\n",
    "        svm_grad = model.gradient(x_adv, logits)\n",
    "        gradient = svm_grad * loss\n",
    "        gradient /= gradient.norm()\n",
    "\n",
    "        x_adv = x_adv + alpha * gradient\n",
    "        if (x_adv - x).norm() > eps:\n",
    "            difference = x_adv - x\n",
    "            difference = difference / difference.norm() * eps\n",
    "            x_adv = x + difference\n",
    "        x_adv = x_adv.clip(0, 1)\n",
    "        path[i + 1, :] = x_adv\n",
    "    return x_adv, model.predict(x_adv), path"
   ]
  },
  {
   "cell_type": "code",
   "execution_count": null,
   "metadata": {
    "pycharm": {
     "name": "#%%\n"
    }
   },
   "outputs": [],
   "source": [
    "index = 0\n",
    "x = CArray(X[index, :]).atleast_2d()\n",
    "y_true = y[index]\n",
    "iterations = 10\n",
    "eps = 0.5\n",
    "alpha = 0.05\n",
    "\n",
    "print(f\"Starting point has label: {y_true}\")\n",
    "x_adv, y_adv, attack_path = pgd_l2_untargeted(x, y_true, clf, eps, alpha, iterations)\n",
    "print(f\"Adversarial point has label: {y_adv.item()}\")"
   ]
  },
  {
   "cell_type": "code",
   "execution_count": null,
   "metadata": {
    "pycharm": {
     "name": "#%%\n"
    }
   },
   "outputs": [],
   "source": [
    "from secml.figure import CFigure\n",
    "from secml.optim.constraints import CConstraintL2\n",
    "\n",
    "fig = CFigure()\n",
    "fig.sp.scatter(X[y == 0, 0], X[y == 0, 1], c='r')\n",
    "fig.sp.scatter(X[y == 1, 0], X[y == 1, 1], c='b')\n",
    "fig.sp.plot_decision_regions(clf, plot_background=False, n_grid_points=200)\n",
    "constraint = CConstraintL2(center=x, radius=eps)\n",
    "fig.sp.plot_path(attack_path)\n",
    "fig.sp.plot_constraint(constraint)"
   ]
  },
  {
   "cell_type": "markdown",
   "metadata": {
    "pycharm": {
     "name": "#%% md\n"
    }
   },
   "source": [
    "Evasion achieved!\n",
    "As you could see, the process is not bug-free and it is complex to handle (like, what happens if I chose another sample for the attack? Why is not working?)\n",
    "Hence, SecML already provides a lot of attack wrappers to accomplish the same task effortlessly."
   ]
  },
  {
   "cell_type": "code",
   "execution_count": null,
   "metadata": {
    "pycharm": {
     "name": "#%%\n"
    }
   },
   "outputs": [],
   "source": [
    "solver_params = {\n",
    "    'eta': alpha,\n",
    "    'max_iter': iterations,\n",
    "    'eps': 1\n",
    "}\n",
    "\n",
    "from secml.adv.attacks.evasion import CAttackEvasionPGD\n",
    "pgd_attack = CAttackEvasionPGD(\n",
    "    classifier=clf,\n",
    "    double_init=False,\n",
    "    distance='l2',\n",
    "    dmax=eps,\n",
    "    lb=0, ub=1,\n",
    "    solver_params=solver_params,\n",
    "    y_target=None)\n",
    "\n",
    "# Run the evasion attack on x0\n",
    "y_pred_pgd, _, adv_ds_pgd, _ = pgd_attack.run(x, y_true)\n",
    "\n",
    "print(\"Starting point has label: \", y_true.item())\n",
    "print(f\"Adversarial point has label: {y_pred_pgd.item()}\")"
   ]
  },
  {
   "cell_type": "code",
   "execution_count": null,
   "metadata": {
    "pycharm": {
     "name": "#%%\n"
    }
   },
   "outputs": [],
   "source": [
    "from secml.figure import CFigure\n",
    "from secml.optim.constraints import CConstraintL2\n",
    "\n",
    "fig = CFigure()\n",
    "fig.sp.scatter(X[y == 0, 0], X[y == 0, 1], c='r')\n",
    "fig.sp.scatter(X[y == 1, 0], X[y == 1, 1], c='b')\n",
    "fig.sp.plot_decision_regions(clf, plot_background=False, n_grid_points=200)\n",
    "constraint = CConstraintL2(center=x, radius=eps)\n",
    "fig.sp.plot_path(pgd_attack.x_seq)\n",
    "fig.sp.plot_constraint(constraint)"
   ]
  },
  {
   "cell_type": "markdown",
   "metadata": {
    "pycharm": {
     "name": "#%% md\n"
    }
   },
   "source": [
    "# Exercise\n",
    "\n",
    "Now, we will create new data and a new classifier, and we will perform both attacks through SecML.\n",
    "Your task consists of using the library to create adversarial examples, in both targeted and untargeted settings."
   ]
  },
  {
   "cell_type": "code",
   "execution_count": null,
   "metadata": {
    "pycharm": {
     "name": "#%%\n"
    }
   },
   "outputs": [],
   "source": [
    "from secml.ml.features import CNormalizerMinMax\n",
    "from secml.ml.classifiers.multiclass import CClassifierMulticlassOVA\n",
    "from secml.ml.kernels import CKernelRBF\n",
    "\n",
    "random_state = 999\n",
    "\n",
    "n_features = 2  # Number of features\n",
    "n_samples = 1000  # Number of samples\n",
    "centers = [[-2, 0], [2, -2], [2, 2]]  # Centers of the clusters\n",
    "cluster_std = 0.4  # Standard deviation of the clusters\n",
    "\n",
    "from secml.data.loader import CDLRandomBlobs\n",
    "dataset = CDLRandomBlobs(n_features=n_features, \n",
    "                         centers=centers, \n",
    "                         cluster_std=cluster_std,\n",
    "                         n_samples=n_samples,\n",
    "                         random_state=random_state).load()\n",
    "\n",
    "\n",
    "# Normalize the data\n",
    "dataset.X = CNormalizerMinMax().fit_transform(dataset.X)\n",
    "clf = CClassifierMulticlassOVA(CClassifierSVM, C=0.1, kernel=CKernelRBF(gamma=10))\n",
    "clf.fit(dataset.X, dataset.Y)\n",
    "\n",
    "fig = CFigure()\n",
    "fig.sp.scatter(dataset.X[dataset.Y==0,0], dataset.X[dataset.Y==0,1], c='r')\n",
    "fig.sp.scatter(dataset.X[dataset.Y==1,0], dataset.X[dataset.Y==1,1], c='b')\n",
    "fig.sp.scatter(dataset.X[dataset.Y==2,0], dataset.X[dataset.Y==2,1], c='g')\n",
    "fig.sp.plot_decision_regions(clf, plot_background=False, n_grid_points=200)"
   ]
  },
  {
   "cell_type": "code",
   "execution_count": null,
   "metadata": {
    "pycharm": {
     "name": "#%%\n"
    }
   },
   "outputs": [],
   "source": [
    "iterations = 100\n",
    "alpha = 0.01\n",
    "y_target = 0\n",
    "\n",
    "index = 10\n",
    "x, y = dataset.X[index,:], dataset.Y[index]\n",
    "\n",
    "solver_params = {\n",
    "    'eta': alpha,\n",
    "    'max_iter': iterations,\n",
    "    'eps': 1e-4\n",
    "}\n",
    "\n",
    "from secml.adv.attacks.evasion import CAttackEvasionPGD\n",
    "pgd_attack_t = CAttackEvasionPGD(\n",
    "    classifier=clf,\n",
    "    double_init=False,\n",
    "    distance='l2',\n",
    "    dmax=eps,\n",
    "    lb=0, ub=1,\n",
    "    solver_params=solver_params,\n",
    "    y_target=y_target)\n",
    "\n",
    "# Run the evasion attack on x0\n",
    "y_pred_pgd_t, _, adv_ds_pgd_t, _ = pgd_attack_t.run(x, y)\n",
    "\n",
    "print(\"Starting point has label: \", y.item())\n",
    "print(f\"Adversarial point has label: {y_pred_pgd_t.item()}\")\n",
    "\n",
    "fig = CFigure()\n",
    "fig.sp.scatter(dataset.X[dataset.Y==0,0], dataset.X[dataset.Y==0,1], c='r')\n",
    "fig.sp.scatter(dataset.X[dataset.Y==1,0], dataset.X[dataset.Y==1,1], c='b')\n",
    "fig.sp.scatter(dataset.X[dataset.Y==2,0], dataset.X[dataset.Y==2,1], c='g')\n",
    "\n",
    "fig.sp.plot_decision_regions(clf, plot_background=False, n_grid_points=200)\n",
    "\n",
    "fig.sp.plot_fun(pgd_attack_t.objective_function, plot_levels=False, \n",
    "                    multipoint=True, n_grid_points=20)\n",
    "constraint = CConstraintL2(center=x, radius=eps)\n",
    "\n",
    "fig.sp.plot_path(pgd_attack_t.x_seq)\n",
    "fig.sp.plot_constraint(constraint)"
   ]
  },
  {
   "cell_type": "code",
   "execution_count": null,
   "metadata": {
    "pycharm": {
     "name": "#%%\n"
    }
   },
   "outputs": [],
   "source": [
    "iterations = 100\n",
    "alpha = 0.01\n",
    "y_target = None\n",
    "\n",
    "index = 100\n",
    "x, y = dataset.X[index,:], dataset.Y[index]\n",
    "print(x,y)\n",
    "\n",
    "solver_params = {\n",
    "    'eta': alpha,\n",
    "    'max_iter': iterations,\n",
    "    'eps': 1e-4\n",
    "}\n",
    "\n",
    "from secml.adv.attacks.evasion import CAttackEvasionPGD\n",
    "pgd_attack_u = CAttackEvasionPGD(\n",
    "    classifier=clf,\n",
    "    double_init=False,\n",
    "    distance='l2',\n",
    "    dmax=eps,\n",
    "    lb=0, ub=1,\n",
    "    solver_params=solver_params,\n",
    "    y_target=y_target)\n",
    "\n",
    "# Run the evasion attack on x0\n",
    "y_pred_pgd_u, _, adv_ds_pgd_u, _ = pgd_attack_u.run(x, y)\n",
    "\n",
    "print(\"Starting point has label: \", y.item())\n",
    "print(f\"Adversarial point has label: {y_pred_pgd_u.item()}\")\n",
    "\n",
    "fig = CFigure()\n",
    "fig.sp.scatter(dataset.X[dataset.Y==0,0], dataset.X[dataset.Y==0,1], c='r')\n",
    "fig.sp.scatter(dataset.X[dataset.Y==1,0], dataset.X[dataset.Y==1,1], c='b')\n",
    "fig.sp.scatter(dataset.X[dataset.Y==2,0], dataset.X[dataset.Y==2,1], c='g')\n",
    "\n",
    "fig.sp.plot_decision_regions(clf, plot_background=False, n_grid_points=200)\n",
    "\n",
    "fig.sp.plot_fun(pgd_attack_u.objective_function, plot_levels=False, multipoint=True, n_grid_points=20)\n",
    "\n",
    "constraint = CConstraintL2(center=x, radius=eps)\n",
    "fig.sp.plot_path(pgd_attack_u.x_seq)\n",
    "fig.sp.plot_constraint(constraint)"
   ]
  }
 ],
 "metadata": {
  "kernelspec": {
   "display_name": "Python 3 (ipykernel)",
   "language": "python",
   "name": "python3"
  },
  "language_info": {
   "codemirror_mode": {
    "name": "ipython",
    "version": 3
   },
   "file_extension": ".py",
   "mimetype": "text/x-python",
   "name": "python",
   "nbconvert_exporter": "python",
   "pygments_lexer": "ipython3",
   "version": "3.8.13"
  },
  "vscode": {
   "interpreter": {
    "hash": "60077ecdbb31c0938f5ded612085840cfad105448b3d79aec3520ea54a577203"
   }
  }
 },
 "nbformat": 4,
 "nbformat_minor": 1
}
