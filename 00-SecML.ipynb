{
 "cells": [
  {
   "cell_type": "markdown",
   "source": [
    "# Introduction to the SecML library\n",
    "\n",
    "In this tutorial, you will learn the basic components of the [SecML library](https://github.com/pralab/secml).\n",
    "At the end of the exercise, you will be familiar with the core data structure of the library, the [CArray](https://secml.readthedocs.io/en/v0.15/secml.array.html), and how to import pre-trained machine learning models from [scikit-learn](https://scikit-learn.org/stable/index.html) and [PyTorch](https://pytorch.org) (with a brief tutorial on it).\n",
    "\n"
   ],
   "metadata": {
    "collapsed": false,
    "pycharm": {
     "name": "#%% md\n"
    }
   }
  },
  {
   "cell_type": "markdown",
   "source": [
    "## Installation\n",
    "\n",
    "Before installing SecML, we strongly suggest to create an environment where to download all the dependancies of the library through [Anaconda Python](https://docs.conda.io/en/latest/miniconda.html). Follow the linked page to install Miniconda (a minimal version of Conda).\n",
    "After the installation, you can create a *conda environment* from your command line:\n",
    "\n",
    "```bash\n",
    "conda create -n secml python=3.8\n",
    "```\n",
    "\n",
    "Once the environment has been installed, you can activate it and install SecML:\n",
    "\n",
    "```bash\n",
    "conda activate secml\n",
    "python -m pip install \"secml[pytorch,foolbox]\"\n",
    "python -m install notebook\n",
    "```\n",
    "\n",
    "Once the procedure is complete, you can verify that SecML is correctly installed inside your environment.\n",
    "Open a Python interpreter and type:\n",
    "```python\n",
    "import secml\n",
    "print(secml.__version__)\n",
    "```\n",
    "\n",
    "Restart the notebook inside the conda environment to continue the exercise. Execute the following code to ensure you can access SecML inside the notebook."
   ],
   "metadata": {
    "collapsed": false,
    "pycharm": {
     "name": "#%% md\n"
    }
   }
  },
  {
   "cell_type": "code",
   "execution_count": null,
   "outputs": [],
   "source": [
    "import secml\n",
    "import foolbox\n",
    "import sklearn.datasets\n",
    "import torch\n",
    "print('SecML:', secml.__version__)\n",
    "print('Foolbox:', foolbox.__version__)\n",
    "print('PyTorch:', torch.__version__)"
   ],
   "metadata": {
    "collapsed": false,
    "pycharm": {
     "name": "#%%\n"
    }
   }
  },
  {
   "cell_type": "markdown",
   "source": [
    "# Part 1 - CArray: the basic data structure\n",
    "\n",
    "The CArray is the base class that is used inside SecML to create vectors and matrices.\n",
    "If you are already familiar with NumPy, you will recognize many functions and helpers along the tutorial."
   ],
   "metadata": {
    "collapsed": false,
    "pycharm": {
     "name": "#%% md\n"
    }
   }
  },
  {
   "cell_type": "code",
   "execution_count": null,
   "outputs": [],
   "source": [
    "from secml.array import CArray\n",
    "\n",
    "x = CArray([0,1,2,3])\n",
    "print(x)\n",
    "print('Shape of single-row vector: ', x.shape)\n",
    "x = CArray([[0,1,2,3], [4,5,6,7]])\n",
    "print(x)\n",
    "print('Shape of 2D vector:', x.shape)"
   ],
   "metadata": {
    "collapsed": false,
    "pycharm": {
     "name": "#%%\n"
    }
   }
  },
  {
   "cell_type": "markdown",
   "source": [
    "You can perform basic mathematical operations between CArrays:"
   ],
   "metadata": {
    "collapsed": false,
    "pycharm": {
     "name": "#%% md\n"
    }
   }
  },
  {
   "cell_type": "code",
   "execution_count": null,
   "outputs": [],
   "source": [
    "x1 = CArray([1,2,3,4])\n",
    "x2 = CArray([5,6,7,8])\n",
    "\n",
    "print(x1 + x2) # Element-wise sum\n",
    "print(x1 - x2) # Element-wise subtraction\n",
    "print(x1 * x2) # Element-wise multiplication\n",
    "print(x1 / x2) # Element-wise division\n",
    "print(x1.dot(x2)) # Dot product\n",
    "print(x1.T) # Transpose\n",
    "print(x1.norm(order=2)) # Compute norm"
   ],
   "metadata": {
    "collapsed": false,
    "pycharm": {
     "name": "#%%\n"
    }
   }
  },
  {
   "cell_type": "markdown",
   "source": [
    "You can perform operations between 2D vectors:"
   ],
   "metadata": {
    "collapsed": false,
    "pycharm": {
     "name": "#%% md\n"
    }
   }
  },
  {
   "cell_type": "code",
   "execution_count": null,
   "outputs": [],
   "source": [
    "x1 = CArray([[1,2,3,4],[1,2,3,4]])\n",
    "x2 = CArray([[5,6,7,8], [5,6,7,8]])\n",
    "\n",
    "print(x1 + x2) # Element-wise sum\n",
    "print(x1 - x2) # Element-wise subtraction\n",
    "print(x1 * x2) # Element-wise multiplication\n",
    "print(x1 / x2) # Element-wise division\n",
    "print(x1.T.dot(x2)) # Dot product between (4,2) and (2,4) matrices\n",
    "print(x1.norm_2d(order=2, axis=0)) # Norm of each column\n",
    "print(x1.norm_2d(order=2, axis=1)) # Norm of each row\n",
    "print(x1.flatten(), x1.flatten().shape) # Flatten the matrix to one single row"
   ],
   "metadata": {
    "collapsed": false,
    "pycharm": {
     "name": "#%%\n"
    }
   }
  },
  {
   "cell_type": "markdown",
   "source": [
    "You can import data from numpy, by passing a numpy array to the CArray constructor:"
   ],
   "metadata": {
    "collapsed": false,
    "pycharm": {
     "name": "#%% md\n"
    }
   }
  },
  {
   "cell_type": "code",
   "execution_count": null,
   "outputs": [],
   "source": [
    "import numpy as np\n",
    "\n",
    "x = np.array([0,1,2,3])\n",
    "print('Numpy array:', x, 'with type', type(x))\n",
    "x = CArray(x)\n",
    "print('CArray of numpy array:', x, 'with type', type(x))\n",
    "x = x.tondarray()\n",
    "print('Back to ', type(x))"
   ],
   "metadata": {
    "collapsed": false,
    "pycharm": {
     "name": "#%%\n"
    }
   }
  },
  {
   "cell_type": "markdown",
   "source": [
    "The CArray class offers helper functions to create data from known distributions, like the [Normal Distribution](https://en.wikipedia.org/wiki/Normal_distribution):"
   ],
   "metadata": {
    "collapsed": false,
    "pycharm": {
     "name": "#%% md\n"
    }
   }
  },
  {
   "cell_type": "code",
   "execution_count": null,
   "outputs": [],
   "source": [
    "x = CArray.randn((3,3)) # normal distribution\n",
    "print(x)\n",
    "x = CArray.zeros((2,5)) # 2D vector with only zeros\n",
    "print(x)\n",
    "x = CArray.ones((3,3)) # 2D vector with only ones\n",
    "print(x)\n",
    "x = CArray.eye(4,4)\n",
    "print(x)"
   ],
   "metadata": {
    "collapsed": false,
    "pycharm": {
     "name": "#%%\n"
    }
   }
  },
  {
   "cell_type": "markdown",
   "source": [
    "**PLEASE REMARK** that the CArray class only supports **2D** data. Passing a high-dimensional data shape will result in a flatten:"
   ],
   "metadata": {
    "collapsed": false,
    "pycharm": {
     "name": "#%% md\n"
    }
   }
  },
  {
   "cell_type": "code",
   "execution_count": null,
   "outputs": [],
   "source": [
    "x = np.random.rand(10,10,10)\n",
    "xc = CArray(x)\n",
    "print('NumPy shape:', x.shape)\n",
    "print('CArray shape:', xc.shape)"
   ],
   "metadata": {
    "collapsed": false,
    "pycharm": {
     "name": "#%%\n"
    }
   }
  },
  {
   "cell_type": "markdown",
   "source": [
    "# Exercise 1\n",
    "Use the code above to complete the assignment.\n",
    "* Create two CArray from the normal distribution with shape (5,6)\n",
    "* Compute the dot product of the two newly-created CArray\n",
    "* Flatten the result and compute the euclidean norm (which order?)\n",
    "* Create an identity of shape (5,5) and a 2D vectors of zeros with shape (5,5)\n",
    "* Sum and multiply the two newly-created CArray"
   ],
   "metadata": {
    "collapsed": false,
    "pycharm": {
     "name": "#%% md\n"
    }
   }
  },
  {
   "cell_type": "markdown",
   "source": [
    "# Part 2 - Import classifiers inside SecML\n",
    "\n",
    "The SecML library offers wrappers for PyTorch and scikit-learn models.\n",
    "More details on the creation and training of models inside SecML can be found on the [GitHub repository](https://github.com/pralab/secml/tree/master/tutorials). Wrapping a model is easy: the library offers classes that accepts models from the desired framework."
   ],
   "metadata": {
    "collapsed": false,
    "pycharm": {
     "name": "#%% md\n"
    }
   }
  },
  {
   "cell_type": "code",
   "execution_count": null,
   "outputs": [],
   "source": [
    "# Wrapping a scikit-learn classifier\n",
    "from sklearn.svm import SVC\n",
    "from secml.ml.classifiers import CClassifierSkLearn\n",
    "model = SVC()\n",
    "secml_model = CClassifierSkLearn(model)"
   ],
   "metadata": {
    "collapsed": false,
    "pycharm": {
     "name": "#%%\n"
    }
   }
  },
  {
   "cell_type": "markdown",
   "source": [
    "Models can be pre-trained (as the one in PyTorch), and they can also be trained *inside* SecML."
   ],
   "metadata": {
    "collapsed": false,
    "pycharm": {
     "name": "#%% md\n"
    }
   }
  },
  {
   "cell_type": "code",
   "execution_count": null,
   "outputs": [],
   "source": [
    "import sklearn\n",
    "\n",
    "X, y = sklearn.datasets.make_blobs(n_samples=100, n_features=2)\n",
    "secml_model.fit(X,y)"
   ],
   "metadata": {
    "collapsed": false,
    "pycharm": {
     "name": "#%%\n"
    }
   }
  },
  {
   "cell_type": "markdown",
   "source": [
    "# Exercise 2\n",
    "\n",
    "Use the code above as an example to complete the assignment.\n",
    "* Create a twin-moon sklearn dataset (divided in training and testing)\n",
    "* Create a SecML wrapper for the newly created classifier\n",
    "* Fit the classifier using SecML\n",
    "* Compute the accuracy on the test set"
   ],
   "metadata": {
    "collapsed": false,
    "pycharm": {
     "name": "#%% md\n"
    }
   }
  },
  {
   "cell_type": "code",
   "execution_count": null,
   "outputs": [],
   "source": [
    "X, y = sklearn.datasets.make_moons(n_samples=100)\n",
    "X_t, y_t = sklearn.datasets.make_moons(n_samples=20)\n",
    "\n",
    "model = SVC()\n",
    "clf = CClassifierSkLearn(model)\n",
    "clf.fit(X, y)\n",
    "\n",
    "y_pred = clf.predict(data_ts.X)"
   ],
   "metadata": {
    "collapsed": false,
    "pycharm": {
     "name": "#%%\n"
    }
   }
  },
  {
   "cell_type": "markdown",
   "source": [
    "[PyTorch](https://pytorch.org) is a framework for creating deep neural networks, and it is implemented to handle the back-propagation as smooth as possible, by already providing implementations of the most used layers (convolutions, dense, etc.)\n",
    "\n",
    "A PyTorch neural network is defined as a class that defines its architecture and how if performs the forward pass. This example can be found in the [PyTorch documentation](https://pytorch.org/tutorials/beginner/blitz/cifar10_tutorial.html)."
   ],
   "metadata": {
    "collapsed": false,
    "pycharm": {
     "name": "#%% md\n"
    }
   }
  },
  {
   "cell_type": "code",
   "execution_count": null,
   "outputs": [],
   "source": [
    "import torch.nn as nn\n",
    "import torch.nn.functional as F\n",
    "\n",
    "\n",
    "class Net(nn.Module):\n",
    "    def __init__(self):\n",
    "        super().__init__()\n",
    "        self.conv1 = nn.Conv2d(3, 6, 5)\n",
    "        self.pool = nn.MaxPool2d(2, 2)\n",
    "        self.conv2 = nn.Conv2d(6, 16, 5)\n",
    "        self.fc1 = nn.Linear(16 * 5 * 5, 120)\n",
    "        self.fc2 = nn.Linear(120, 84)\n",
    "        self.fc3 = nn.Linear(84, 10)\n",
    "\n",
    "    def forward(self, x):\n",
    "        x = self.pool(F.relu(self.conv1(x)))\n",
    "        x = self.pool(F.relu(self.conv2(x)))\n",
    "        x = torch.flatten(x, 1)\n",
    "        x = F.relu(self.fc1(x))\n",
    "        x = F.relu(self.fc2(x))\n",
    "        x = self.fc3(x)\n",
    "        return x"
   ],
   "metadata": {
    "collapsed": false,
    "pycharm": {
     "name": "#%%\n"
    }
   }
  },
  {
   "cell_type": "markdown",
   "source": [
    "The `Net` class extends the `Module` PyTorch class, and the constructor `__init__` function specifies the architecture. Then, the `forward` function describes how to compute the *logits*, the scores of the classifier.\n",
    "\n",
    "Now we download the [CIFAR10 dataset](https://www.cs.toronto.edu/~kriz/cifar.html) to train the classifier.\n",
    "To create data that can be consumed by PyTorch, we first need to create a Data Loader that preprocess the input before the forward pass."
   ],
   "metadata": {
    "collapsed": false,
    "pycharm": {
     "name": "#%% md\n"
    }
   }
  },
  {
   "cell_type": "code",
   "execution_count": null,
   "outputs": [],
   "source": [
    "import torch\n",
    "import torchvision\n",
    "import torchvision.transforms as transforms\n",
    "\n",
    "transform = transforms.Compose(\n",
    "    [transforms.ToTensor(),\n",
    "     transforms.Normalize((0.5, 0.5, 0.5), (0.5, 0.5, 0.5))])\n",
    "\n",
    "batch_size = 4\n",
    "\n",
    "trainset = torchvision.datasets.CIFAR10(root='./data', train=True,\n",
    "                                        download=True, transform=transform)\n",
    "trainloader = torch.utils.data.DataLoader(trainset, batch_size=batch_size,\n",
    "                                          shuffle=True, num_workers=2)\n",
    "\n",
    "testset = torchvision.datasets.CIFAR10(root='./data', train=False,\n",
    "                                       download=True, transform=transform)\n",
    "testloader = torch.utils.data.DataLoader(testset, batch_size=batch_size,\n",
    "                                         shuffle=False, num_workers=2)\n",
    "\n",
    "classes = ('plane', 'car', 'bird', 'cat',\n",
    "           'deer', 'dog', 'frog', 'horse', 'ship', 'truck')"
   ],
   "metadata": {
    "collapsed": false,
    "pycharm": {
     "name": "#%%\n"
    }
   }
  },
  {
   "cell_type": "markdown",
   "source": [
    "With data and the architecture, we can start the training phase.\n",
    "We will use [Stochastic Gradient Descent](https://en.wikipedia.org/wiki/Stochastic_gradient_descent) to fine-tune the weights of all the layers of the neural network. Lastly, we need a function that quantifies how much the network is performing well while training, that will be used by the optimizer as a guide.\n",
    "We define a *loss function*, in this case the [Cross-entropy loss](https://en.wikipedia.org/wiki/Cross_entropy) that quantify the error committed by the neural network.\n",
    "The larger the loss, the worse the network is behaving. The SGD optimizer will update the model weights to reduce the value of this loss function, and hence creating a network that has a high classification performance."
   ],
   "metadata": {
    "collapsed": false,
    "pycharm": {
     "name": "#%% md\n"
    }
   }
  },
  {
   "cell_type": "code",
   "execution_count": null,
   "outputs": [],
   "source": [
    "import torch.optim as optim\n",
    "\n",
    "net = Net()\n",
    "optimizer = optim.SGD(net.parameters(), lr=0.001, momentum=0.9)\n",
    "loss_function = nn.CrossEntropyLoss()"
   ],
   "metadata": {
    "collapsed": false,
    "pycharm": {
     "name": "#%%\n"
    }
   }
  },
  {
   "cell_type": "markdown",
   "source": [
    "We can finally write the PyTorch training loop. Notice that, contrary to scikit-learn, the developer must take into account many technical details before completing the training of a model. On the other hand, PyTorch allows developer to have more control over the shape of the architecture and the training loop."
   ],
   "metadata": {
    "collapsed": false,
    "pycharm": {
     "name": "#%% md\n"
    }
   }
  },
  {
   "cell_type": "code",
   "execution_count": null,
   "outputs": [],
   "source": [
    "for epoch in range(2):  # The network will be more precise if it passes over the dataset more times (beware the overfitting!)\n",
    "\n",
    "    running_loss = 0.0\n",
    "    for i, data in enumerate(trainloader, 0):\n",
    "        # get the inputs; data is a list of [inputs, labels]\n",
    "        inputs, labels = data\n",
    "\n",
    "        # zero the parameter gradients\n",
    "        optimizer.zero_grad()\n",
    "\n",
    "        # forward + backward + optimize\n",
    "        outputs = net(inputs)\n",
    "        loss = loss_function(outputs, labels)\n",
    "        loss.backward()\n",
    "        optimizer.step()\n",
    "\n",
    "\n",
    "        running_loss += loss.item()\n",
    "        if i % 2000 == 1999:    # print every 2000 mini-batches\n",
    "            print(f'[{epoch + 1}, {i + 1:5d}] loss: {running_loss / 2000:.3f}')\n",
    "            running_loss = 0.0"
   ],
   "metadata": {
    "collapsed": false,
    "pycharm": {
     "name": "#%%\n"
    }
   }
  },
  {
   "cell_type": "code",
   "execution_count": null,
   "outputs": [],
   "source": [
    "from matplotlib.pyplot import imshow\n",
    "\n",
    "dataiter = iter(testloader)\n",
    "images, labels = dataiter.next()\n",
    "\n",
    "print('GroundTruth: ', ' '.join(f'{classes[labels[j]]:5s}' for j in range(4)))\n",
    "outputs = net(images)\n",
    "_, predicted = torch.max(outputs, 1)\n",
    "\n",
    "print('Predicted: ', ' '.join(f'{classes[predicted[j]]:5s}'\n",
    "                              for j in range(4)))\n"
   ],
   "metadata": {
    "collapsed": false,
    "pycharm": {
     "name": "#%%\n"
    }
   }
  },
  {
   "cell_type": "markdown",
   "source": [
    "Now we can wrap the created model inside SecML, through the intended wrapper."
   ],
   "metadata": {
    "collapsed": false,
    "pycharm": {
     "name": "#%% md\n"
    }
   }
  },
  {
   "cell_type": "code",
   "execution_count": null,
   "outputs": [],
   "source": [
    "from secml.ml.classifiers import CClassifierPyTorch\n",
    "from secml.array import CArray\n",
    "clf = CClassifierPyTorch(model=net,\n",
    "                         loss=loss_function,\n",
    "                         optimizer=optimizer,\n",
    "                         input_shape=(3, 32, 32),\n",
    "                         random_state=0,\n",
    "                         pretrained_classes=CArray(range(10)),\n",
    "                         pretrained=True)\n",
    "dataiter = iter(testloader)\n",
    "images, labels = dataiter.next()\n",
    "x = CArray(images)\n",
    "y = clf.predict(x)\n",
    "print('Predicted: ', ' '.join(f'{classes[predicted[j]]:5s}' for j in range(4)))"
   ],
   "metadata": {
    "collapsed": false,
    "pycharm": {
     "name": "#%%\n"
    }
   }
  }
 ],
 "metadata": {
  "kernelspec": {
   "display_name": "Python 3",
   "language": "python",
   "name": "python3"
  },
  "language_info": {
   "codemirror_mode": {
    "name": "ipython",
    "version": 2
   },
   "file_extension": ".py",
   "mimetype": "text/x-python",
   "name": "python",
   "nbconvert_exporter": "python",
   "pygments_lexer": "ipython2",
   "version": "2.7.6"
  }
 },
 "nbformat": 4,
 "nbformat_minor": 0
}