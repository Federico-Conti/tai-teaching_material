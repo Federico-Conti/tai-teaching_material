{
 "cells": [
  {
   "cell_type": "markdown",
   "source": [
    "# Introduction to the SecML library\n",
    "\n",
    "In this tutorial, you will learn the basic components of the [SecML library](https://github.com/pralab/secml).\n",
    "At the end of the exercise, you will be familiar with the core data structure of the library, the [CArray](https://secml.readthedocs.io/en/v0.15/secml.array.html), and how to import pre-trained machine learning models from [scikit-learn](https://scikit-learn.org/stable/index.html) and [PyTorch](https://pytorch.org).\n",
    "\n"
   ],
   "metadata": {
    "collapsed": false,
    "pycharm": {
     "name": "#%% md\n"
    }
   }
  },
  {
   "cell_type": "markdown",
   "source": [
    "## Installation\n",
    "\n",
    "Before installing SecML, we strongly suggest to create an environment where to download all the dependancies of the library through [Anaconda Python](https://docs.conda.io/en/latest/miniconda.html). Follow the linked page to install Miniconda (a minimal version of Conda).\n",
    "After the installation, you can create a *conda environment* from your command line:\n",
    "\n",
    "```bash\n",
    "conda create -n secml python=3.8\n",
    "```\n",
    "\n",
    "Once the environment has been installed, you can activate it and install SecML:\n",
    "\n",
    "```bash\n",
    "conda activate secml\n",
    "python -m pip install \"secml[pytorch,foolbox]\"\n",
    "python -m install notebook\n",
    "```\n",
    "\n",
    "Once the procedure is complete, you can verify that SecML is correctly installed inside your environment.\n",
    "Open a Python interpreter and type:\n",
    "```python\n",
    "import secml\n",
    "print(secml.__version__)\n",
    "```\n",
    "\n",
    "Restart the notebook inside the conda environment to continue the exercise. Execute the following code to ensure you can access SecML inside the notebook."
   ],
   "metadata": {
    "collapsed": false,
    "pycharm": {
     "name": "#%% md\n"
    }
   }
  },
  {
   "cell_type": "code",
   "execution_count": null,
   "outputs": [],
   "source": [
    "import secml\n",
    "import foolbox\n",
    "import sklearn.datasets\n",
    "import torch\n",
    "print('SecML:', secml.__version__)\n",
    "print('Foolbox:', foolbox.__version__)\n",
    "print('PyTorch:', torch.__version__)"
   ],
   "metadata": {
    "collapsed": false,
    "pycharm": {
     "name": "#%%\n"
    }
   }
  },
  {
   "cell_type": "markdown",
   "source": [
    "# Part 1 - CArray: the basic data structure\n",
    "\n",
    "The CArray is the base class that is used inside SecML to create vectors and matrices.\n",
    "If you are already familiar with NumPy, you will recognize many functions and helpers along the tutorial."
   ],
   "metadata": {
    "collapsed": false,
    "pycharm": {
     "name": "#%% md\n"
    }
   }
  },
  {
   "cell_type": "code",
   "execution_count": null,
   "outputs": [],
   "source": [
    "from secml.array import CArray\n",
    "\n",
    "x = CArray([0,1,2,3])\n",
    "print(x)\n",
    "print('Shape of single-row vector: ', x.shape)\n",
    "x = CArray([[0,1,2,3], [4,5,6,7]])\n",
    "print(x)\n",
    "print('Shape of 2D vector:', x.shape)"
   ],
   "metadata": {
    "collapsed": false,
    "pycharm": {
     "name": "#%%\n"
    }
   }
  },
  {
   "cell_type": "markdown",
   "source": [
    "You can perform basic mathematical operations between CArrays:"
   ],
   "metadata": {
    "collapsed": false,
    "pycharm": {
     "name": "#%% md\n"
    }
   }
  },
  {
   "cell_type": "code",
   "execution_count": null,
   "outputs": [],
   "source": [
    "x1 = CArray([1,2,3,4])\n",
    "x2 = CArray([5,6,7,8])\n",
    "\n",
    "print(x1 + x2) # Element-wise sum\n",
    "print(x1 - x2) # Element-wise subtraction\n",
    "print(x1 * x2) # Element-wise multiplication\n",
    "print(x1 / x2) # Element-wise division\n",
    "print(x1.dot(x2)) # Dot product\n",
    "print(x1.T) # Transpose\n",
    "print(x1.norm(order=2)) # Compute norm"
   ],
   "metadata": {
    "collapsed": false,
    "pycharm": {
     "name": "#%%\n"
    }
   }
  },
  {
   "cell_type": "markdown",
   "source": [
    "You can perform operations between 2D vectors:"
   ],
   "metadata": {
    "collapsed": false,
    "pycharm": {
     "name": "#%% md\n"
    }
   }
  },
  {
   "cell_type": "code",
   "execution_count": null,
   "outputs": [],
   "source": [
    "x1 = CArray([[1,2,3,4],[1,2,3,4]])\n",
    "x2 = CArray([[5,6,7,8], [5,6,7,8]])\n",
    "\n",
    "print(x1 + x2) # Element-wise sum\n",
    "print(x1 - x2) # Element-wise subtraction\n",
    "print(x1 * x2) # Element-wise multiplication\n",
    "print(x1 / x2) # Element-wise division\n",
    "print(x1.T.dot(x2)) # Dot product between (4,2) and (2,4) matrices\n",
    "print(x1.norm_2d(order=2, axis=0)) # Norm of each column\n",
    "print(x1.norm_2d(order=2, axis=1)) # Norm of each row\n",
    "print(x1.flatten(), x1.flatten().shape) # Flatten the matrix to one single row"
   ],
   "metadata": {
    "collapsed": false,
    "pycharm": {
     "name": "#%%\n"
    }
   }
  },
  {
   "cell_type": "markdown",
   "source": [
    "You can import data from numpy, by passing a numpy array to the CArray constructor:"
   ],
   "metadata": {
    "collapsed": false,
    "pycharm": {
     "name": "#%% md\n"
    }
   }
  },
  {
   "cell_type": "code",
   "execution_count": null,
   "outputs": [],
   "source": [
    "import numpy as np\n",
    "\n",
    "x = np.array([0,1,2,3])\n",
    "print('Numpy array:', x, 'with type', type(x))\n",
    "x = CArray(x)\n",
    "print('CArray of numpy array:', x, 'with type', type(x))\n",
    "x = x.tondarray()\n",
    "print('Back to ', type(x))"
   ],
   "metadata": {
    "collapsed": false,
    "pycharm": {
     "name": "#%%\n"
    }
   }
  },
  {
   "cell_type": "markdown",
   "source": [
    "The CArray class offers helper functions to create data from known distributions, like the [Normal Distribution](https://en.wikipedia.org/wiki/Normal_distribution):"
   ],
   "metadata": {
    "collapsed": false,
    "pycharm": {
     "name": "#%% md\n"
    }
   }
  },
  {
   "cell_type": "code",
   "execution_count": null,
   "outputs": [],
   "source": [
    "x = CArray.randn((3,3)) # normal distribution\n",
    "print(x)\n",
    "x = CArray.zeros((2,5)) # 2D vector with only zeros\n",
    "print(x)\n",
    "x = CArray.ones((3,3)) # 2D vector with only ones\n",
    "print(x)\n",
    "x = CArray.eye(4,4)\n",
    "print(x)"
   ],
   "metadata": {
    "collapsed": false,
    "pycharm": {
     "name": "#%%\n"
    }
   }
  },
  {
   "cell_type": "markdown",
   "source": [
    "**PLEASE REMARK** that the CArray class only supports **2D** data. Passing a high-dimensional data shape will result in a flatten:"
   ],
   "metadata": {
    "collapsed": false,
    "pycharm": {
     "name": "#%% md\n"
    }
   }
  },
  {
   "cell_type": "code",
   "execution_count": null,
   "outputs": [],
   "source": [
    "x = np.random.rand(10,10,10)\n",
    "xc = CArray(x)\n",
    "print('NumPy shape:', x.shape)\n",
    "print('CArray shape:', xc.shape)"
   ],
   "metadata": {
    "collapsed": false,
    "pycharm": {
     "name": "#%%\n"
    }
   }
  },
  {
   "cell_type": "markdown",
   "source": [
    "# Exercise 1\n",
    "Use the code above to complete the assignment.\n",
    "* Create two CArray from the normal distribution with shape (5,6)\n",
    "* Compute the dot product of the two newly-created CArray\n",
    "* Flatten the result and compute the euclidean norm (which order?)\n",
    "* Create an identity of shape (5,5) and a 2D vectors of zeros with shape (5,5)\n",
    "* Sum and multiply the two newly-created CArray"
   ],
   "metadata": {
    "collapsed": false,
    "pycharm": {
     "name": "#%% md\n"
    }
   }
  },
  {
   "cell_type": "markdown",
   "source": [
    "# Part 2 - Import classifiers inside SecML\n",
    "\n",
    "The SecML library offers wrappers for PyTorch and scikit-learn models.\n",
    "More details on the creation and training of models inside SecML can be found on the [GitHub repository](https://github.com/pralab/secml/tree/master/tutorials). Wrapping a model is easy: the library offers classes that accepts models from the desired framework."
   ],
   "metadata": {
    "collapsed": false,
    "pycharm": {
     "name": "#%% md\n"
    }
   }
  },
  {
   "cell_type": "code",
   "execution_count": null,
   "outputs": [],
   "source": [
    "# Wrapping a Pytorch network\n",
    "from torchvision.models import resnet18\n",
    "from secml.ml.classifiers import CClassifierPyTorch\n",
    "model = resnet18(pretrained=True)\n",
    "secml_model = CClassifierPyTorch(model, input_shape=(3, 224, 224))\n",
    "\n",
    "# Wrapping a scikit-learn classifier\n",
    "from sklearn.svm import SVC\n",
    "from secml.ml.classifiers import CClassifierSkLearn\n",
    "model = SVC()\n",
    "secml_model = CClassifierSkLearn(model)"
   ],
   "metadata": {
    "collapsed": false,
    "pycharm": {
     "name": "#%%\n"
    }
   }
  },
  {
   "cell_type": "markdown",
   "source": [
    "Models can be pre-trained (as the one in PyTorch), and they can also be trained *inside* SecML."
   ],
   "metadata": {
    "collapsed": false,
    "pycharm": {
     "name": "#%% md\n"
    }
   }
  },
  {
   "cell_type": "code",
   "execution_count": null,
   "outputs": [],
   "source": [
    "import sklearn\n",
    "\n",
    "X, y = sklearn.datasets.make_blobs(n_samples=100, n_features=2)\n",
    "secml_model.fit(X,y)"
   ],
   "metadata": {
    "collapsed": false,
    "pycharm": {
     "name": "#%%\n"
    }
   }
  },
  {
   "cell_type": "markdown",
   "source": [
    "# Exercise 2\n",
    "\n",
    "Use the code above as an example to complete the assignment.\n",
    "* Create a twin-moon sklearn dataset (divided in training and testing)\n",
    "* Create a SecML wrapper for the newly created classifier\n",
    "* Fit the classifier using SecML\n",
    "* Compute the accuracy on the test set"
   ],
   "metadata": {
    "collapsed": false,
    "pycharm": {
     "name": "#%% md\n"
    }
   }
  },
  {
   "cell_type": "code",
   "execution_count": 13,
   "outputs": [],
   "source": [
    "X, y = sklearn.datasets.make_moons(n_samples=100)\n",
    "X_t, y_t = sklearn.datasets.make_moons(n_samples=20)\n",
    "\n",
    "model = SVC()\n",
    "clf = CClassifierSkLearn(model)\n",
    "clf.fit(X, y)\n",
    "\n",
    "y_pred = clf.predict(data_ts.X)"
   ],
   "metadata": {
    "collapsed": false,
    "pycharm": {
     "name": "#%%\n"
    }
   }
  },
  {
   "cell_type": "markdown",
   "source": [
    "Extra Exercise\n",
    "\n",
    "To solve this exercise, take inspiration from [a tutorial provided inside the library](https://github.com/pralab/secml/blob/master/tutorials/02-NeuralNetworks.ipynb).\n",
    "* Create a PyTorch classifier that can be trained on the twin-moon dataset\n",
    "* Create a SecML wrapper for the newly created classifier\n",
    "* Fit the classifier using the SecML library\n",
    "* Compute the accuracy on the test set"
   ],
   "metadata": {
    "collapsed": false,
    "pycharm": {
     "name": "#%% md\n"
    }
   }
  },
  {
   "cell_type": "code",
   "execution_count": null,
   "outputs": [],
   "source": [],
   "metadata": {
    "collapsed": false,
    "pycharm": {
     "name": "#%%\n"
    }
   }
  }
 ],
 "metadata": {
  "kernelspec": {
   "display_name": "Python 3",
   "language": "python",
   "name": "python3"
  },
  "language_info": {
   "codemirror_mode": {
    "name": "ipython",
    "version": 2
   },
   "file_extension": ".py",
   "mimetype": "text/x-python",
   "name": "python",
   "nbconvert_exporter": "python",
   "pygments_lexer": "ipython2",
   "version": "2.7.6"
  }
 },
 "nbformat": 4,
 "nbformat_minor": 0
}