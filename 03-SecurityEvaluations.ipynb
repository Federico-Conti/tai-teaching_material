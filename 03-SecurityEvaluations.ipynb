{
 "cells": [
  {
   "cell_type": "markdown",
   "id": "8331ee36",
   "metadata": {},
   "source": [
    "# Lab 03 - Security Evaluations of Machine Learning Models\n",
    "\n",
    "How to assess the security of a machine learning model? We saw previously that one epsilon is not enough.\n",
    "Also, we have different attacks, how we characterize a model globally?\n",
    "\n",
    "We introduce here the concept of *Security Evaluations*, which are used to better understand the impact of attacks against models.\n",
    "First we create some data and two models that we want to compare."
   ]
  },
  {
   "cell_type": "code",
   "execution_count": 30,
   "id": "1098a8fc",
   "metadata": {},
   "outputs": [],
   "source": [
    "try:\n",
    "    import secmlt\n",
    "except ImportError:\n",
    "    %pip install git+https://github.com/pralab/secml-torch"
   ]
  },
  {
   "cell_type": "code",
   "execution_count": 31,
   "id": "045642be",
   "metadata": {},
   "outputs": [
    {
     "name": "stdout",
     "output_type": "stream",
     "text": [
      "Test accuracy model 1: 98.00%\n",
      "Test accuracy model 2: 98.00%\n"
     ]
    }
   ],
   "source": [
    "from secmlt.models.pytorch.base_pytorch_nn import BasePytorchClassifier\n",
    "from secmlt.models.pytorch.base_pytorch_trainer import BasePyTorchTrainer\n",
    "from torch.utils.data import DataLoader, TensorDataset\n",
    "from sklearn.datasets import make_blobs\n",
    "import numpy as np\n",
    "import matplotlib.pyplot as plt\n",
    "import torch\n",
    "from secmlt.metrics.classification import Accuracy\n",
    "\n",
    "\n",
    "class Net(torch.nn.Module):\n",
    "    def __init__(self):\n",
    "        super(Net, self).__init__()\n",
    "        self.fc1 = torch.nn.Linear(2, 16)  # Input layer to hidden layer\n",
    "        self.fc2 = torch.nn.Linear(16, 16) # Hidden layer to hidden layer\n",
    "        self.fc3 = torch.nn.Linear(16, 3)  # Hidden layer to output layer\n",
    "        self.relu = torch.nn.ReLU()         # ReLU activation function\n",
    "\n",
    "    def forward(self, x):\n",
    "        x = self.relu(self.fc1(x))  # Apply first layer and ReLU\n",
    "        x = self.relu(self.fc2(x))  # Apply second layer and ReLU\n",
    "        x = self.fc3(x)             # Apply output layer (no activation here)\n",
    "        return x\n",
    "\n",
    "class Net2(torch.nn.Module):\n",
    "    def __init__(self):\n",
    "        super(Net2, self).__init__()\n",
    "        self.fc1 = torch.nn.Linear(2, 6)  # Input layer to hidden layer\n",
    "        self.fc2 = torch.nn.Linear(6, 4)\n",
    "        self.fc3 = torch.nn.Linear(4, 3)\n",
    "        self.relu = torch.nn.ReLU()        \n",
    "\n",
    "    def forward(self, x):\n",
    "        x = self.relu(self.fc1(x))  # Apply first layer and ReLU\n",
    "        x = self.relu(self.fc2(x))  # Apply second layer and ReLU\n",
    "        x = self.fc3(x)             # Apply output layer (no activation here)\n",
    "        return x\n",
    "\n",
    "centers = [(0, 1), (0, 0), (1, 1)]\n",
    "cluster_std = 0.25\n",
    "X_train, y_train = make_blobs(n_samples=500, \n",
    "                  centers=centers,\n",
    "                  n_features=2,\n",
    "                  cluster_std=cluster_std,\n",
    "                  random_state=999)\n",
    "X_train = torch.tensor(X_train, dtype=torch.float32)\n",
    "y_train = torch.tensor(y_train, dtype=torch.long)\n",
    "X_test, y_test = make_blobs(n_samples=100, \n",
    "                  centers=centers,\n",
    "                  n_features=2,\n",
    "                  cluster_std=cluster_std,\n",
    "                  random_state=999)\n",
    "X_test = torch.tensor(X_test, dtype=torch.float32)\n",
    "y_test = torch.tensor(y_test, dtype=torch.long)\n",
    "\n",
    "\n",
    "tr_dataloader = DataLoader(TensorDataset(X_train, y_train), batch_size=32, shuffle=False)\n",
    "ts_dataloader = DataLoader(TensorDataset(X_test, y_test), batch_size=32, shuffle=False)\n",
    "\n",
    "model1 = Net()\n",
    "optimizer = torch.optim.Adam(model1.parameters(), lr=0.01)\n",
    "criterion = torch.nn.CrossEntropyLoss()\n",
    "trainer = BasePyTorchTrainer(optimizer=optimizer, loss=criterion, epochs=100)\n",
    "secmlt_model = BasePytorchClassifier(model1, trainer=trainer)\n",
    "secmlt_model.train(tr_dataloader)\n",
    "\n",
    "model2 = Net2()\n",
    "optimizer = torch.optim.Adam(model2.parameters(), lr=0.01)\n",
    "trainer = BasePyTorchTrainer(optimizer=optimizer, loss=criterion, epochs=100)\n",
    "secmlt_model2 = BasePytorchClassifier(model2, trainer=trainer)\n",
    "secmlt_model2.train(tr_dataloader)\n",
    "\n",
    "accuracy1 = Accuracy()(secmlt_model, ts_dataloader)\n",
    "accuracy2 = Accuracy()(secmlt_model2, ts_dataloader)\n",
    "print(\"Test accuracy model 1: {:.2f}%\".format(accuracy1 * 100))\n",
    "print(\"Test accuracy model 2: {:.2f}%\".format(accuracy2 * 100))"
   ]
  },
  {
   "cell_type": "markdown",
   "id": "651c4e0a",
   "metadata": {},
   "source": [
    "What can we say about the security of those models? The computation of security evaluations involve repeating attacks with increasing strength, hence it shuld approximate all the possible scenarios that can be envisioned once the models are deployed."
   ]
  },
  {
   "cell_type": "code",
   "execution_count": 32,
   "id": "048031c5",
   "metadata": {},
   "outputs": [],
   "source": [
    "from secmlt.adv.evasion.pgd import PGD\n",
    "from secmlt.adv.backends import Backends\n",
    "from secmlt.adv.evasion.perturbation_models import LpPerturbationModels\n",
    "\n",
    "def security_evaluation(model, dataloader, epsilons):\n",
    "    sec_eval_data = []\n",
    "    for e in epsilons:\n",
    "        attack = PGD(\n",
    "            perturbation_model=LpPerturbationModels.L2,\n",
    "            num_steps=50,\n",
    "            step_size=0.01,\n",
    "            y_target=None,\n",
    "            epsilon=e,\n",
    "            lb=-2,ub=2,\n",
    "            backend = Backends.NATIVE)\n",
    "    \n",
    "        adv_dataloader = attack(model, dataloader)\n",
    "        robust_accuracy = Accuracy()(model, adv_dataloader)\n",
    "        sec_eval_data.append(robust_accuracy)\n",
    "    return sec_eval_data"
   ]
  },
  {
   "cell_type": "code",
   "execution_count": 33,
   "id": "d00b560b",
   "metadata": {},
   "outputs": [
    {
     "data": {
      "image/png": "[encoded data removed]",
      "text/plain": [
       "<Figure size 640x480 with 1 Axes>"
      ]
     },
     "metadata": {},
     "output_type": "display_data"
    }
   ],
   "source": [
    "epsilons=np.linspace(0, 3, 10)\n",
    "sec_eval_model1 = security_evaluation(secmlt_model, ts_dataloader, epsilons=np.linspace(0, 3, 10))\n",
    "sec_eval_model2 = security_evaluation(secmlt_model2, ts_dataloader, epsilons=np.linspace(0, 3, 10))\n",
    "\n",
    "plt.plot(epsilons, sec_eval_model1, label='SecEval 1')\n",
    "plt.plot(epsilons, sec_eval_model2, label='SecEval 2')\n",
    "plt.xlabel('Epsilon')\n",
    "plt.ylabel('Robust Accuracy')\n",
    "plt.ylim(0, 1)\n",
    "plt.legend()\n",
    "plt.show()"
   ]
  },
  {
   "cell_type": "markdown",
   "id": "5b669860",
   "metadata": {},
   "source": [
    "## Exercise 1\n",
    "* What can you say about these evaluations? Are they ok? Is Model 2 more robust than Model 1, or viceversa? Try to change the parameters to better understand what is going on.\n",
    "* Repeat the security evaluations, but change the norm (L1 or LINF). Are those evaluations comparable?"
   ]
  },
  {
   "cell_type": "markdown",
   "id": "1f5a6bd5",
   "metadata": {},
   "source": []
  },
  {
   "cell_type": "markdown",
   "id": "cba37f60",
   "metadata": {},
   "source": []
  }
 ],
 "metadata": {
  "kernelspec": {
   "display_name": "tai_env",
   "language": "python",
   "name": "python3"
  },
  "language_info": {
   "codemirror_mode": {
    "name": "ipython",
    "version": 3
   },
   "file_extension": ".py",
   "mimetype": "text/x-python",
   "name": "python",
   "nbconvert_exporter": "python",
   "pygments_lexer": "ipython3",
   "version": "3.10.9"
  }
 },
 "nbformat": 4,
 "nbformat_minor": 5
}
