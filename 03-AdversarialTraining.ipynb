{
 "cells": [
  {
   "cell_type": "markdown",
   "source": [
    "# Improving robustness through Adversarial Training\n",
    "\n",
    "[![Open In Colab](https://colab.research.google.com/assets/colab-badge.svg)](\n",
    "https://colab.research.google.com/github/zangobot/teaching_material/blob/HEAD/03-AdversarialTraining.ipynb)\n",
    "\n",
    "One possible way to counter the presence of adversarial examples is through **Adversarial Training**, that formalizes the training of a classifier as the following optimization problem:\n",
    "\n",
    "$$\n",
    "    \\min_\\boldsymbol{\\theta} \\max_{\\boldsymbol{\\delta}} \\mathbb{E}_{(x, y)\\sim D} [ L(\\boldsymbol{x} + \\boldsymbol{\\delta}, y_i; \\boldsymbol{\\theta}) ]\n",
    "  \\\\\n",
    "  s.t.\\quad ||\\delta||_p \\le \\epsilon\n",
    "  \\\\\n",
    "  \\text{subject to} \\quad \\boldsymbol{l}_b \\preccurlyeq \\boldsymbol{x} + \\boldsymbol{\\delta} \\preccurlyeq \\boldsymbol{l}_u\n",
    "$$\n",
    "\n",
    "In words, the goal of adversarial training is finding a model that fits input data (the outer minimization), by taking into account the *worst* manipulation that can be applied to them (the inner maximisation) [1].\n",
    "In practice, finding a solution to this problem is very hard, as the terms that are optimized have a direct impact on both the inner and the outer problem (and they can not be separated).\n",
    "\n",
    "Hence, we can provide an *approximation* of this objective: we create an iterative approach that:\n",
    "* fits a model on clean data;\n",
    "* compute adversarial examples with a specific attack;\n",
    "* combine clean and adversarial data (with correct label) and fit the classifier again;\n",
    "* repeat the process.\n",
    "\n",
    "We will start by looking at a simple 2D case first, and we will scale up to more difficult problems at the end of the notebook.\n",
    "\n",
    "[1] Madry et al. \"Towards deep learning models resistant to adversarial attacks\", ICLR 2018, https://arxiv.org/pdf/1706.06083.pdf"
   ],
   "metadata": {
    "collapsed": false,
    "pycharm": {
     "name": "#%% md\n"
    }
   }
  },
  {
   "cell_type": "code",
   "execution_count": null,
   "metadata": {
    "collapsed": false,
    "pycharm": {
     "name": "#%%\n"
    }
   },
   "outputs": [],
   "source": [
    "try:\n",
    "    import secml\n",
    "except ImportError:\n",
    "    %pip install git+https://github.com/pralab/secml"
   ]
  },
  {
   "cell_type": "code",
   "execution_count": null,
   "metadata": {
    "pycharm": {
     "name": "#%%\n"
    }
   },
   "outputs": [],
   "source": [
    "random_state = 999\n",
    "\n",
    "n_features = 2  # number of features\n",
    "n_samples = 1250  # number of samples\n",
    "centers = [[-2, -2], [2, -2], [2, 2], [-2, 2]]  # centers of the clusters\n",
    "cluster_std = 0.5  # standard deviation of the clusters\n",
    "n_classes = len(centers)  # number of classes\n",
    "\n",
    "from secml.data.loader import CDLRandomBlobs\n",
    "\n",
    "dataset = CDLRandomBlobs(n_features=n_features,\n",
    "                         centers=centers,\n",
    "                         cluster_std=cluster_std,\n",
    "                         n_samples=n_samples,\n",
    "                         random_state=random_state).load()\n",
    "\n",
    "n_tr = 1000  # number of training set samples\n",
    "n_ts = 250  # number of test set samples\n",
    "\n",
    "# split in training and test\n",
    "from secml.data.splitter import CTrainTestSplit\n",
    "\n",
    "splitter = CTrainTestSplit(\n",
    "    train_size=n_tr, test_size=n_ts, random_state=random_state)\n",
    "tr, ts = splitter.split(dataset)\n",
    "\n",
    "# normalize the data\n",
    "from secml.ml.features import CNormalizerMinMax\n",
    "\n",
    "nmz = CNormalizerMinMax()\n",
    "tr.X = nmz.fit_transform(tr.X)\n",
    "ts.X = nmz.transform(ts.X)"
   ]
  },
  {
   "cell_type": "code",
   "execution_count": null,
   "metadata": {
    "collapsed": false,
    "pycharm": {
     "name": "#%%\n"
    }
   },
   "outputs": [],
   "source": [
    "from torch import nn\n",
    "from torch import optim\n",
    "from secml.ml.classifiers import CClassifierPyTorch\n",
    "from secml.ml.peval.metrics import CMetricAccuracy\n",
    "\n",
    "\n",
    "# creation of the multiclass classifier\n",
    "class Net(nn.Module):\n",
    "    def __init__(self, n_features, n_hidden, n_classes):\n",
    "        super(Net, self).__init__()\n",
    "        self.fc1 = nn.Linear(n_features, n_hidden)\n",
    "        self.fc2 = nn.Linear(n_hidden, n_hidden)\n",
    "        self.fc3 = nn.Linear(n_hidden, n_classes)\n",
    "\n",
    "    def forward(self, x):\n",
    "        x = torch.relu(self.fc1(x))\n",
    "        x = torch.relu(self.fc2(x))\n",
    "        x = self.fc3(x)\n",
    "        return x\n",
    "\n",
    "\n",
    "# torch model creation\n",
    "net = Net(n_features=n_features, n_classes=n_classes, n_hidden=100)\n",
    "\n",
    "criterion = nn.CrossEntropyLoss()\n",
    "optimizer = optim.SGD(net.parameters(),\n",
    "                      lr=0.001, momentum=0.9)\n",
    "\n",
    "# wrap torch model in CClassifierPyTorch class\n",
    "clean_clf = CClassifierPyTorch(model=net,\n",
    "                         loss=criterion,\n",
    "                         optimizer=optimizer,\n",
    "                         input_shape=(n_features,),\n",
    "                         random_state=random_state)\n",
    "\n",
    "# fit the classifier\n",
    "clean_clf.fit(tr.X, tr.Y)\n",
    "\n",
    "# compute predictions on a test set\n",
    "y_pred = clean_clf.predict(ts.X)\n",
    "\n",
    "# Evaluate the accuracy of the classifier\n",
    "metric = CMetricAccuracy()\n",
    "acc = metric.performance_score(y_true=ts.Y, y_pred=y_pred)\n",
    "\n",
    "print(\"Accuracy on test set: {:.2%}\".format(acc))"
   ]
  },
  {
   "cell_type": "code",
   "execution_count": null,
   "metadata": {
    "pycharm": {
     "name": "#%%\n"
    }
   },
   "outputs": [],
   "source": [
    "%matplotlib inline\n",
    "\n",
    "# plot the samples and the decision function of the classifier\n",
    "from secml.figure import CFigure\n",
    "\n",
    "fig = CFigure()\n",
    "fig.sp.plot_ds(tr)\n",
    "fig.sp.plot_decision_regions(clean_clf, plot_background=True,\n",
    "                             n_grid_points=200)\n",
    "fig.show()"
   ]
  },
  {
   "cell_type": "code",
   "execution_count": null,
   "outputs": [],
   "source": [
    "fig = CFigure()\n",
    "fig.sp.plot_ds(ts)\n",
    "fig.sp.plot_decision_regions(clean_clf, plot_background=True,\n",
    "                             n_grid_points=200)\n",
    "fig.show()"
   ],
   "metadata": {
    "collapsed": false,
    "pycharm": {
     "name": "#%%\n"
    }
   }
  },
  {
   "cell_type": "markdown",
   "source": [
    "# Implementing a naive version of Adversarial Training\n",
    "\n",
    "As said before, we need to create a loop that iteratively compute adversarial attacks against the classifier, and use them inside the next training of the classifier itself."
   ],
   "metadata": {
    "collapsed": false,
    "pycharm": {
     "name": "#%% md\n"
    }
   }
  },
  {
   "cell_type": "code",
   "execution_count": null,
   "outputs": [],
   "source": [
    "%matplotlib inline\n",
    "from secml.data import CDataset\n",
    "import sklearn\n",
    "from secml.adv.attacks import CFoolboxPGDL2\n",
    "\n",
    "n_retrains = 10\n",
    "how_many_adv = 200\n",
    "y_target = None\n",
    "lb, ub = 0, 1\n",
    "eps = 0.2\n",
    "alpha = 0.05\n",
    "steps = 10\n",
    "advtr_dataset = CDataset(tr.X, tr.Y) # we copy the clean classifier for later\n",
    "at_clf = clean_clf.deepcopy()\n",
    "pgd_attack = CFoolboxPGDL2(at_clf, y_target,\n",
    "                           lb=lb, ub=ub,\n",
    "                           epsilons=eps,\n",
    "                           abs_stepsize=alpha,\n",
    "                           steps=steps,\n",
    "                           random_start=False)\n",
    "\n",
    "for i in range(n_retrains):\n",
    "    print(f'Adversarial training: iteration {i}')\n",
    "    indeces = sklearn.utils.random.sample_without_replacement(n_population=tr.X.shape[0], n_samples=how_many_adv, random_state=random_state).tolist()\n",
    "    trY = tr.Y[indeces]\n",
    "    y_pred, _, adv_ds_pgd, _ = pgd_attack.run(tr.X[indeces,:], trY)\n",
    "    fig = CFigure(height=5, width=6)\n",
    "    fig.sp.plot_ds(advtr_dataset, markers='o')\n",
    "    fig.sp.plot_ds(CDataset(adv_ds_pgd.X, trY), markers='*')\n",
    "    advtr_dataset = advtr_dataset.append(CDataset(adv_ds_pgd.X, trY)) # we include the computed adversarial examples inside the training set\n",
    "    at_clf.fit(advtr_dataset.X, advtr_dataset.Y) # we fit the classifier with all the points\n",
    "    fig.sp.plot_decision_regions(at_clf, plot_background=False, n_grid_points=200) # this plot will show how the boundary changes over each iteration of the adversarial training\n",
    "    fig.show()"
   ],
   "metadata": {
    "collapsed": false,
    "pycharm": {
     "name": "#%%\n"
    }
   }
  },
  {
   "cell_type": "markdown",
   "source": [
    "After the completion of the adversarial training, we can compute the difference in robustness achieved."
   ],
   "metadata": {
    "collapsed": false,
    "pycharm": {
     "name": "#%% md\n"
    }
   }
  },
  {
   "cell_type": "code",
   "execution_count": null,
   "outputs": [],
   "source": [
    "ys_pred_y = clean_clf.predict(ts.X)\n",
    "clean_accuracy = CMetricAccuracy().performance_score(ts.Y, ys_pred_y)\n",
    "print('Clean accuracy of regular model: ', clean_accuracy)\n",
    "\n",
    "ys_pred_y = at_clf.predict(ts.X)\n",
    "clean_accuracy = CMetricAccuracy().performance_score(ts.Y, ys_pred_y)\n",
    "print('Clean accuracy of AT model: ', clean_accuracy)\n",
    "\n",
    "n_samples = 100\n",
    "steps_2 = 10\n",
    "pgd_attack_at = CFoolboxPGDL2(at_clf, y_target,\n",
    "                           lb=lb, ub=ub,\n",
    "                           epsilons=eps,\n",
    "                           abs_stepsize=alpha,\n",
    "                           steps=steps_2,\n",
    "                           random_start=False)\n",
    "at_adv_y_pred, _, _, _ = pgd_attack_at.run(ts.X[:n_samples, :], ts.Y[:n_samples])\n",
    "at_robust_accuracy = CMetricAccuracy().performance_score(ts.Y[:n_samples], at_adv_y_pred)\n",
    "print('Robust Accuracy of AT model:', at_robust_accuracy)\n",
    "\n",
    "pgd_attack_clean = CFoolboxPGDL2(clean_clf, y_target,\n",
    "                           lb=lb, ub=ub,\n",
    "                           epsilons=eps,\n",
    "                           abs_stepsize=alpha,\n",
    "                           steps=steps_2,\n",
    "                           random_start=False)\n",
    "adv_y_pred, _, _, _ = pgd_attack_clean.run(ts.X[:n_samples, :], ts.Y[:n_samples])\n",
    "robust_accuracy = CMetricAccuracy().performance_score(ts.Y[:n_samples], adv_y_pred)\n",
    "print('Robust Accuracy of regular model:', robust_accuracy)"
   ],
   "metadata": {
    "collapsed": false,
    "pycharm": {
     "name": "#%%\n"
    }
   }
  },
  {
   "cell_type": "markdown",
   "source": [
    "# High-dimensional examples: adversarially-robust MNIST classifier\n",
    "\n",
    "Computing adversarial training on 2D problems is easy, but repeating the same loop for models trained on more complex problems (such as MNIST classification), the overall process becomes more and more complicated. We show here an example of robust\n",
    "We instantiate two pretrained networks and we compute their robustness with adversarial attacks.\n"
   ],
   "metadata": {
    "collapsed": false,
    "pycharm": {
     "name": "#%% md\n"
    }
   }
  },
  {
   "cell_type": "code",
   "execution_count": null,
   "outputs": [],
   "source": [
    "n_ts = 20  # number of testing samples\n",
    "\n",
    "from secml.data.loader import CDataLoaderMNIST\n",
    "\n",
    "loader = CDataLoaderMNIST()\n",
    "ts = loader.load('testing', num_samples=n_ts)\n",
    "\n",
    "# normalize the data\n",
    "ts.X /= 255"
   ],
   "metadata": {
    "collapsed": false,
    "pycharm": {
     "name": "#%%\n"
    }
   }
  },
  {
   "cell_type": "code",
   "execution_count": null,
   "outputs": [],
   "source": [
    "from secml.ml.peval.metrics import CMetricAccuracy\n",
    "from secml.ml import CClassifierPyTorch\n",
    "from collections import OrderedDict\n",
    "from torch import nn\n",
    "import torch\n",
    "\n",
    "class SmallCNN(nn.Module):\n",
    "    def __init__(self, drop=0.5):\n",
    "        super(SmallCNN, self).__init__()\n",
    "        self.num_channels = 1\n",
    "        self.num_labels = 10\n",
    "        activ = nn.ReLU(True)\n",
    "        self.feature_extractor = nn.Sequential(OrderedDict([\n",
    "            ('conv1', nn.Conv2d(self.num_channels, 32, 3)),\n",
    "            ('relu1', activ),\n",
    "            ('conv2', nn.Conv2d(32, 32, 3)),\n",
    "            ('relu2', activ),\n",
    "            ('maxpool1', nn.MaxPool2d(2, 2)),\n",
    "            ('conv3', nn.Conv2d(32, 64, 3)),\n",
    "            ('relu3', activ),\n",
    "            ('conv4', nn.Conv2d(64, 64, 3)),\n",
    "            ('relu4', activ),\n",
    "            ('maxpool2', nn.MaxPool2d(2, 2)),\n",
    "        ]))\n",
    "        self.classifier = nn.Sequential(OrderedDict([\n",
    "            ('fc1', nn.Linear(64 * 4 * 4, 200)),\n",
    "            ('relu1', activ),\n",
    "            ('drop', nn.Dropout(drop)),\n",
    "            ('fc2', nn.Linear(200, 200)),\n",
    "            ('relu2', activ),\n",
    "            ('fc3', nn.Linear(200, self.num_labels)),\n",
    "        ]))\n",
    "\n",
    "    def forward(self, input):\n",
    "        features = self.feature_extractor(input)\n",
    "        logits = self.classifier(features.view(-1, 64 * 4 * 4))\n",
    "        return logits\n",
    "\n",
    "device = torch.device(\"cuda\" if torch.cuda.is_available() else \"cpu\")\n",
    "regular_mnist_model = SmallCNN()\n",
    "regular_mnist_model.load_state_dict(torch.load('mnist_net.pth', map_location=device))\n",
    "regular_mnist_clf = CClassifierPyTorch(model=regular_mnist_model, pretrained=True, input_shape=(1, 28, 28))\n",
    "\n",
    "robust_mnist_model = SmallCNN()\n",
    "robust_mnist_model.load_state_dict(torch.load('mnist_robust_net.pth', map_location=device))\n",
    "robust_mnist_model = CClassifierPyTorch(model=robust_mnist_model, pretrained=True, input_shape=(1, 28, 28))\n",
    "\n",
    "metric = CMetricAccuracy()\n",
    "reg_preds = regular_mnist_clf.predict(ts.X)\n",
    "at_preds = robust_mnist_model.predict(ts.X)\n",
    "reg_accuracy = metric.performance_score(y_true=ts.Y, y_pred=reg_preds)\n",
    "at_accuracy = metric.performance_score(y_true=ts.Y, y_pred=at_preds)\n",
    "print(f\"Accuracy of regular net on test set: {reg_accuracy * 100}%\")\n",
    "print(f\"Accuracy of robust net on test set: {at_accuracy * 100}%\")"
   ],
   "metadata": {
    "collapsed": false,
    "pycharm": {
     "name": "#%%\n"
    }
   }
  },
  {
   "cell_type": "code",
   "execution_count": null,
   "outputs": [],
   "source": [
    "from secml.adv.attacks.evasion import CFoolboxPGDLinf\n",
    "\n",
    "y_target = None\n",
    "lb, ub = 0.0, 1.0\n",
    "eps = 0.3  # this will be changed by the security evaluation class\n",
    "alpha = 0.05\n",
    "steps = 100\n",
    "\n",
    "reg_attack = CFoolboxPGDLinf(regular_mnist_clf, y_target,\n",
    "                         lb=lb, ub=ub,\n",
    "                         epsilons=eps,\n",
    "                         abs_stepsize=alpha,\n",
    "                         steps=steps,\n",
    "                         random_start=False)\n",
    "\n",
    "at_attack = CFoolboxPGDLinf(robust_mnist_model, y_target,\n",
    "                         lb=lb, ub=ub,\n",
    "                         epsilons=eps,\n",
    "                         abs_stepsize=alpha,\n",
    "                         steps=steps,\n",
    "                         random_start=False)"
   ],
   "metadata": {
    "collapsed": false,
    "pycharm": {
     "name": "#%%\n"
    }
   }
  },
  {
   "cell_type": "markdown",
   "source": [
    "We compute the security evaluation curve on the given test set. This time, instead of a for loop, we will directly leverage another useful functionality of the SecML library: the **CSecEval class**. This class produce objects that help you computing security evaluation curves.\n",
    "Here we instantiate a CsecEval object to repeat the instantiated attacks with different values of epsilon."
   ],
   "metadata": {
    "collapsed": false,
    "pycharm": {
     "name": "#%% md\n"
    }
   }
  },
  {
   "cell_type": "code",
   "execution_count": null,
   "outputs": [],
   "source": [
    "from secml.array import CArray\n",
    "\n",
    "# perturbation levels to test\n",
    "epsilon_vals = CArray.linspace(start=0, stop=0.5, num=10)\n",
    "\n",
    "from secml.adv.seceval import CSecEval\n",
    "\n",
    "reg_sec_eval = CSecEval(attack=reg_attack, param_name='epsilon', param_values=epsilon_vals)\n",
    "at_sec_eval = CSecEval(attack=at_attack, param_name='epsilon', param_values=epsilon_vals)\n",
    "# run the security evaluation using the test set\n",
    "reg_sec_eval.run_sec_eval(ts)\n",
    "at_sec_eval.run_sec_eval(ts)"
   ],
   "metadata": {
    "collapsed": false,
    "pycharm": {
     "name": "#%%\n"
    }
   }
  },
  {
   "cell_type": "markdown",
   "source": [
    "We can finally plot the result of both security evaluations, and compare their drop with respect to the perturbation budget epsilon."
   ],
   "metadata": {
    "collapsed": false,
    "pycharm": {
     "name": "#%% md\n"
    }
   }
  },
  {
   "cell_type": "code",
   "execution_count": null,
   "outputs": [],
   "source": [
    "%matplotlib inline\n",
    "\n",
    "from secml.figure import CFigure\n",
    "\n",
    "fig = CFigure(height=5, width=10)\n",
    "\n",
    "# convenience function for plotting the Security Evaluation Curve\n",
    "fig.sp.plot_sec_eval(reg_sec_eval.sec_eval_data, marker='o', label='regular', show_average=True)\n",
    "fig.sp.plot_sec_eval(at_sec_eval.sec_eval_data, marker='x', label='robust', show_average=True)\n",
    "fig.show()"
   ],
   "metadata": {
    "collapsed": false,
    "pycharm": {
     "name": "#%%\n"
    }
   }
  },
  {
   "cell_type": "markdown",
   "source": [
    "# RobustBench: an archive of adversarially-robust models\n",
    "\n",
    "Another useful resource to consider while working with adversarial training is [**RobustBench**](https://github.com/RobustBench/robustbench), that is an open-source repository collecting the advancements in the state of the art of adversarial robustness.\n",
    "Researchers train classifiers with complex techniques involving adversarial training. More details on the linked website.\n",
    "Robustbench models can be imported inside SecML easily, as they all are coded in PyTorch."
   ],
   "metadata": {
    "collapsed": false,
    "pycharm": {
     "name": "#%% md\n"
    }
   }
  },
  {
   "cell_type": "code",
   "execution_count": null,
   "outputs": [],
   "source": [
    "try:\n",
    "    import robustbench\n",
    "except ImportError:\n",
    "    %pip install git+https://github.com/RobustBench/robustbench.git"
   ],
   "metadata": {
    "collapsed": false,
    "pycharm": {
     "name": "#%%\n"
    }
   }
  },
  {
   "cell_type": "code",
   "execution_count": null,
   "outputs": [],
   "source": [
    "# NBVAL_IGNORE_OUTPUT\n",
    "\n",
    "from robustbench.utils import load_model\n",
    "from secml.data.loader.c_dataloader_cifar import CDataLoaderCIFAR10\n",
    "from secml.ml.features.normalization import CNormalizerMinMax\n",
    "\n",
    "model = load_model(model_name='Engstrom2019Robustness', norm='Linf', model_dir='.')\n",
    "secml_model = CClassifierPyTorch(model, input_shape=(3,32,32), pretrained=True)\n",
    "train_ds, test_ds = CDataLoaderCIFAR10().load()\n",
    "normalizer = CNormalizerMinMax().fit(train_ds.X)\n",
    "test_ds.X = normalizer.transform(test_ds.X)"
   ],
   "metadata": {
    "collapsed": false,
    "pycharm": {
     "name": "#%%\n"
    }
   }
  },
  {
   "cell_type": "code",
   "execution_count": null,
   "outputs": [],
   "source": [
    "pgdlinf_attack = CFoolboxPGDLinf(secml_model, y_target,\n",
    "                         lb=lb, ub=ub,\n",
    "                         epsilons=0.031,\n",
    "                         abs_stepsize=0.03,\n",
    "                         steps=20,\n",
    "                         random_start=False)\n",
    "\n",
    "x0, y0 = test_ds.X[0,:], test_ds.Y[0]\n",
    "y_pred_pgd, _, adv_ds_pgd, _ = pgdlinf_attack.run(x0, y0)"
   ],
   "metadata": {
    "collapsed": false,
    "pycharm": {
     "name": "#%%\n"
    }
   }
  },
  {
   "cell_type": "code",
   "execution_count": null,
   "outputs": [],
   "source": [
    "from secml.figure import CFigure\n",
    "%matplotlib inline\n",
    "\n",
    "dataset_labels = ['airplane', 'automobile', 'bird', 'cat', 'deer', 'dog', 'frog', 'horse', 'ship', 'truck']\n",
    "\n",
    "img_normal = x0.tondarray().reshape((3,32,32)).transpose(2,1,0)\n",
    "img_adv = adv_ds_pgd.X[0,:].tondarray().reshape((3,32,32)).transpose(2,1,0)\n",
    "\n",
    "diff_img = img_normal - img_adv\n",
    "diff_img -= diff_img.min()\n",
    "diff_img /= diff_img.max()\n",
    "\n",
    "fig = CFigure()\n",
    "fig.subplot(1,3,1)\n",
    "fig.sp.imshow(img_normal)\n",
    "fig.sp.title('{0}'.format(dataset_labels[y0.item()]))\n",
    "fig.sp.xticks([])\n",
    "fig.sp.yticks([])\n",
    "\n",
    "fig.subplot(1,3,2)\n",
    "fig.sp.imshow(img_adv)\n",
    "fig.sp.title('{0}'.format(dataset_labels[y_pred_pgd.item()]))\n",
    "fig.sp.xticks([])\n",
    "fig.sp.yticks([])\n",
    "\n",
    "\n",
    "fig.subplot(1,3,3)\n",
    "fig.sp.imshow(diff_img)\n",
    "fig.sp.title('Amplified perturbation')\n",
    "fig.sp.xticks([])\n",
    "fig.sp.yticks([])\n",
    "fig.tight_layout()\n",
    "fig.show()"
   ],
   "metadata": {
    "collapsed": false,
    "pycharm": {
     "name": "#%%\n"
    }
   }
  }
 ],
 "metadata": {
  "kernelspec": {
   "display_name": "Python 3 (ipykernel)",
   "language": "python",
   "name": "python3"
  },
  "language_info": {
   "codemirror_mode": {
    "name": "ipython",
    "version": 3
   },
   "file_extension": ".py",
   "mimetype": "text/x-python",
   "name": "python",
   "nbconvert_exporter": "python",
   "pygments_lexer": "ipython3",
   "version": "3.8.13"
  },
  "vscode": {
   "interpreter": {
    "hash": "60077ecdbb31c0938f5ded612085840cfad105448b3d79aec3520ea54a577203"
   }
  }
 },
 "nbformat": 4,
 "nbformat_minor": 1
}